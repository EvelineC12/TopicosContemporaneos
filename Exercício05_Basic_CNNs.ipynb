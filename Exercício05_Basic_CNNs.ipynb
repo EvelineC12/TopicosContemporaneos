{
  "cells": [
    {
      "cell_type": "markdown",
      "metadata": {
        "id": "view-in-github",
        "colab_type": "text"
      },
      "source": [
        "<a href=\"https://colab.research.google.com/github/EvelineC12/TopicosContemporaneos/blob/main/Exerc%C3%ADcio05_Basic_CNNs.ipynb\" target=\"_parent\"><img src=\"https://colab.research.google.com/assets/colab-badge.svg\" alt=\"Open In Colab\"/></a>"
      ]
    },
    {
      "cell_type": "markdown",
      "source": [
        "**Quinto Trabalho**\n",
        "\n",
        "**Nome: Eveline Cavalcanti Feliciano Pontual**"
      ],
      "metadata": {
        "id": "4mfapvkzkAeR"
      }
    },
    {
      "cell_type": "markdown",
      "metadata": {
        "id": "dTiE4sXn36Wz"
      },
      "source": [
        "# Introdução às Redes Convolucionais com PyTorch\n",
        "\n",
        "Neste notebook, vamos explorar Redes Neurais usando a biblioteca PyTorch. Vamos começar com uma Rede Neural Totalmente Conectada (Fully Connected Network) para classificar dígitos do dataset MNIST. Em seguida, substituiremos a rede por uma Rede Neural Convolucional (CNN) e compararemos os resultados.\n",
        "\n",
        "## Objetivos\n",
        "- Carregar e preprocessar o dataset MNIST.\n",
        "- Implementar uma Rede Neural Totalmente Conectada.\n",
        "- Treinar e avaliar a rede.\n",
        "- Substituir a rede por uma CNN e comparar os resultados."
      ]
    },
    {
      "cell_type": "code",
      "execution_count": 1,
      "metadata": {
        "id": "W6Av8GVg36W0"
      },
      "outputs": [],
      "source": [
        "# Importando as bibliotecas necessárias\n",
        "import torch\n",
        "import torch.nn as nn\n",
        "import torch.optim as optim\n",
        "import torch.nn.functional as F\n",
        "from torch.utils.data import Dataset, DataLoader, Subset\n",
        "import torchvision\n",
        "import torchvision.transforms as transforms\n",
        "# from torchvision.datasets import MNIST\n",
        "import matplotlib.pyplot as plt\n",
        "import numpy as np\n",
        "import pandas as pd\n",
        "from tqdm import tqdm"
      ]
    },
    {
      "cell_type": "markdown",
      "metadata": {
        "id": "jM2uxeko36W1"
      },
      "source": [
        "## Carregando e Preprocessando o Dataset MNIST\n",
        "\n",
        "O dataset MNIST contém 60.000 imagens de treinamento e 10.000 imagens de teste de dígitos manuscritos, de 0 a 9."
      ]
    },
    {
      "cell_type": "code",
      "execution_count": 2,
      "metadata": {
        "id": "_X4iIdUo36W1",
        "outputId": "aee8914b-15f4-488a-d180-3d97cc84ed53",
        "colab": {
          "base_uri": "https://localhost:8080/"
        }
      },
      "outputs": [
        {
          "output_type": "stream",
          "name": "stdout",
          "text": [
            "--2025-01-20 01:45:56--  https://pjreddie.com/media/files/mnist_train.csv\n",
            "Resolving pjreddie.com (pjreddie.com)... 162.0.215.52\n",
            "Connecting to pjreddie.com (pjreddie.com)|162.0.215.52|:443... connected.\n",
            "HTTP request sent, awaiting response... 200 OK\n",
            "Length: 109575994 (104M) [text/csv]\n",
            "Saving to: ‘data/mnist_train.csv’\n",
            "\n",
            "mnist_train.csv     100%[===================>] 104.50M  36.5MB/s    in 2.9s    \n",
            "\n",
            "2025-01-20 01:45:59 (36.5 MB/s) - ‘data/mnist_train.csv’ saved [109575994/109575994]\n",
            "\n"
          ]
        }
      ],
      "source": [
        "# Download do dataset MNIST into data dir\n",
        "! wget https://pjreddie.com/media/files/mnist_train.csv -P data"
      ]
    },
    {
      "cell_type": "code",
      "execution_count": 3,
      "metadata": {
        "id": "FlCffYI336W1"
      },
      "outputs": [],
      "source": [
        "class MNISTDataset(Dataset):\n",
        "    def __init__(self, csv_file, transform=None):\n",
        "        self.data = pd.read_csv(csv_file, header=None)\n",
        "        self.transform = transform\n",
        "\n",
        "    def __len__(self):\n",
        "        return len(self.data)\n",
        "\n",
        "    def __getitem__(self, idx):\n",
        "        # A primeira coluna é o rótulo\n",
        "        label = self.data.iloc[idx, 0]\n",
        "        # As demais colunas são os pixels da imagem\n",
        "        image = self.data.iloc[idx, 1:].values.astype('uint8').reshape(28, 28)\n",
        "\n",
        "        if self.transform:\n",
        "            image = self.transform(image)\n",
        "\n",
        "        return image, label"
      ]
    },
    {
      "cell_type": "code",
      "execution_count": 4,
      "metadata": {
        "id": "npKCfbeK36W2"
      },
      "outputs": [],
      "source": [
        "# Transformação para converter a imagem para tensor\n",
        "transform = transforms.Compose([\n",
        "    transforms.ToPILImage(),    # Convertendo o array numpy para imagem PIL\n",
        "    transforms.ToTensor(),      # Convertendo a imagem PIL para tensor\n",
        "    transforms.Normalize((0.5,), (0.5,))  # Normalizando a imagem\n",
        "])\n",
        "\n",
        "# Criando o dataset\n",
        "mnist_dataset = MNISTDataset(\"./data/mnist_train.csv\", transform=transform)"
      ]
    },
    {
      "cell_type": "code",
      "execution_count": 5,
      "metadata": {
        "id": "0II8EohW36W2"
      },
      "outputs": [],
      "source": [
        "# Criando índices aleatórios para os subsets de treino e teste\n",
        "indices = np.arange(len(mnist_dataset))\n",
        "np.random.shuffle(indices)\n",
        "\n",
        "train_indices = indices[:10000]  # Primeiros 10.000 índices para o trainset\n",
        "test_indices = indices[10000:11000]  # Próximos 1.000 índices para o testset\n",
        "\n",
        "trainset = Subset(mnist_dataset, train_indices)\n",
        "testset = Subset(mnist_dataset, test_indices)"
      ]
    },
    {
      "cell_type": "code",
      "execution_count": 6,
      "metadata": {
        "id": "MGEnnN_i36W2"
      },
      "outputs": [],
      "source": [
        "# Criando DataLoaders para os subsets\n",
        "trainloader = DataLoader(trainset, batch_size=64, shuffle=True)\n",
        "testloader = DataLoader(testset, batch_size=64, shuffle=False)"
      ]
    },
    {
      "cell_type": "markdown",
      "metadata": {
        "id": "wLIen3e336W2"
      },
      "source": [
        "## Visualizando Algumas Imagens do Dataset\n",
        "\n",
        "Vamos visualizar algumas imagens do dataset de treino para entender melhor os dados com os quais estamos trabalhando."
      ]
    },
    {
      "cell_type": "code",
      "execution_count": 7,
      "metadata": {
        "id": "jMB0fxdK36W2",
        "outputId": "0fc46f39-9cdc-4f25-80b7-20254d66756c",
        "colab": {
          "base_uri": "https://localhost:8080/",
          "height": 452
        }
      },
      "outputs": [
        {
          "output_type": "display_data",
          "data": {
            "text/plain": [
              "<Figure size 640x480 with 1 Axes>"
            ],
            "image/png": "[encoded data removed]"
          },
          "metadata": {}
        },
        {
          "output_type": "stream",
          "name": "stdout",
          "text": [
            "Labels:  7 8 2 3 9 4 8 0\n"
          ]
        }
      ],
      "source": [
        "# Função para mostrar uma imagem\n",
        "def imshow(img):\n",
        "    img = img / 2 + 0.5  # desnormalizar\n",
        "    npimg = img.numpy()\n",
        "    plt.imshow(np.transpose(npimg, (1, 2, 0)), cmap='gray')\n",
        "    plt.show()\n",
        "\n",
        "# Obter algumas imagens de treinamento\n",
        "images, labels = next(iter(trainloader))\n",
        "\n",
        "# Mostrar imagens\n",
        "imshow(torchvision.utils.make_grid(images))\n",
        "# Mostrar labels\n",
        "print('Labels: ', ' '.join('%d' % labels[j] for j in range(8)))"
      ]
    },
    {
      "cell_type": "code",
      "execution_count": 8,
      "metadata": {
        "id": "zf6Yrfvr36W2"
      },
      "outputs": [],
      "source": [
        "def train_model(model, trainloader, criterion, optimizer, num_epochs=5):\n",
        "    train_losses = []\n",
        "    accuracies = []\n",
        "    for epoch in range(num_epochs):\n",
        "        running_loss = 0.0\n",
        "        correct = 0\n",
        "        total = 0\n",
        "        for i, data in tqdm(enumerate(trainloader, 0), total=len(trainloader)):\n",
        "            # Obter os inputs; data é uma lista de [inputs, labels]\n",
        "            inputs, labels = data\n",
        "\n",
        "            # Zerar os gradientes dos parâmetros otimizados\n",
        "            optimizer.zero_grad()\n",
        "\n",
        "            # forward + backward + otimize\n",
        "            outputs = model(inputs)\n",
        "            loss = criterion(outputs, labels)\n",
        "            loss.backward()\n",
        "            optimizer.step()\n",
        "\n",
        "            # Estatísticas\n",
        "            running_loss += loss.item()\n",
        "            _, predicted = torch.max(outputs.data, 1)\n",
        "            total += labels.size(0)\n",
        "            correct += (predicted == labels).sum().item()\n",
        "\n",
        "            if i % 50 == 49:\n",
        "                train_losses.append(running_loss / 100)\n",
        "                running_loss = 0.0\n",
        "\n",
        "        epoch_acc = 100 * correct / total\n",
        "        accuracies.append(epoch_acc)\n",
        "        print(f'Epoch {epoch+1}, Loss: {train_losses[-1]:.3f}, Accuracy: {epoch_acc:.2f}%')\n",
        "    print('Treinamento concluído')\n",
        "    return train_losses, accuracies\n",
        "\n",
        "\n",
        "def test_model(model, testloader):\n",
        "    correct = 0\n",
        "    total = 0\n",
        "    with torch.no_grad():\n",
        "        for data in testloader:\n",
        "            images, labels = data\n",
        "            outputs = model(images)\n",
        "            _, predicted = torch.max(outputs.data, 1)\n",
        "            total += labels.size(0)\n",
        "            correct += (predicted == labels).sum().item()\n",
        "\n",
        "    print(f'Acurácia da rede na base de teste: {100 * correct / total:.2f}%')\n",
        "\n",
        "\n",
        "def count_parameters(model):\n",
        "    return sum(p.numel() for p in model.parameters() if p.requires_grad)"
      ]
    },
    {
      "cell_type": "markdown",
      "metadata": {
        "id": "yU_LV7Kr36W2"
      },
      "source": [
        "## Definindo a Rede Neural Totalmente Conectada\n",
        "\n",
        "Vamos definir uma arquitetura simples de Rede Neural Totalmente Conectada (FCN)."
      ]
    },
    {
      "cell_type": "code",
      "execution_count": 9,
      "metadata": {
        "id": "1wXMIWhN36W2"
      },
      "outputs": [],
      "source": [
        "class FCN(nn.Module):\n",
        "    def __init__(self):\n",
        "        super(FCN, self).__init__()\n",
        "        self.fc1 = nn.Linear(28 * 28, 128)\n",
        "        self.fc2 = nn.Linear(128, 64)\n",
        "        self.fc3 = nn.Linear(64, 10)\n",
        "\n",
        "    def forward(self, x):\n",
        "        x = x.view(-1, 28 * 28)\n",
        "        x = F.relu(self.fc1(x))\n",
        "        x = F.relu(self.fc2(x))\n",
        "        x = self.fc3(x)\n",
        "        return x\n",
        "\n",
        "fcn_model = FCN()\n"
      ]
    },
    {
      "cell_type": "code",
      "execution_count": 10,
      "metadata": {
        "id": "PArU2ahw36W2",
        "outputId": "247f355a-30ba-4e94-90e4-381702b4b2b3",
        "colab": {
          "base_uri": "https://localhost:8080/"
        }
      },
      "outputs": [
        {
          "output_type": "stream",
          "name": "stdout",
          "text": [
            "Total de parâmetros na FCN: 109386\n"
          ]
        }
      ],
      "source": [
        "fcn_params = count_parameters(fcn_model)\n",
        "print(f\"Total de parâmetros na FCN: {fcn_params}\")"
      ]
    },
    {
      "cell_type": "code",
      "execution_count": 11,
      "metadata": {
        "id": "CqFD4d9736W3"
      },
      "outputs": [],
      "source": [
        "criterion = nn.CrossEntropyLoss()\n",
        "optimizer = optim.SGD(fcn_model.parameters(), lr=0.01, momentum=0.9)"
      ]
    },
    {
      "cell_type": "code",
      "execution_count": 12,
      "metadata": {
        "id": "2YfZZABl36W3",
        "outputId": "d4b80aab-89ca-48d6-9a48-6769c51e18ae",
        "colab": {
          "base_uri": "https://localhost:8080/"
        }
      },
      "outputs": [
        {
          "output_type": "stream",
          "name": "stderr",
          "text": [
            "100%|██████████| 157/157 [00:06<00:00, 24.66it/s]\n"
          ]
        },
        {
          "output_type": "stream",
          "name": "stdout",
          "text": [
            "Epoch 1, Loss: 0.253, Accuracy: 70.98%\n"
          ]
        },
        {
          "output_type": "stream",
          "name": "stderr",
          "text": [
            "100%|██████████| 157/157 [00:05<00:00, 30.77it/s]\n"
          ]
        },
        {
          "output_type": "stream",
          "name": "stdout",
          "text": [
            "Epoch 2, Loss: 0.177, Accuracy: 88.04%\n"
          ]
        },
        {
          "output_type": "stream",
          "name": "stderr",
          "text": [
            "100%|██████████| 157/157 [00:05<00:00, 29.82it/s]\n"
          ]
        },
        {
          "output_type": "stream",
          "name": "stdout",
          "text": [
            "Epoch 3, Loss: 0.154, Accuracy: 90.19%\n"
          ]
        },
        {
          "output_type": "stream",
          "name": "stderr",
          "text": [
            "100%|██████████| 157/157 [00:04<00:00, 33.57it/s]\n"
          ]
        },
        {
          "output_type": "stream",
          "name": "stdout",
          "text": [
            "Epoch 4, Loss: 0.124, Accuracy: 91.79%\n"
          ]
        },
        {
          "output_type": "stream",
          "name": "stderr",
          "text": [
            "100%|██████████| 157/157 [00:05<00:00, 27.55it/s]"
          ]
        },
        {
          "output_type": "stream",
          "name": "stdout",
          "text": [
            "Epoch 5, Loss: 0.107, Accuracy: 93.00%\n",
            "Treinamento concluído\n"
          ]
        },
        {
          "output_type": "stream",
          "name": "stderr",
          "text": [
            "\n"
          ]
        }
      ],
      "source": [
        "# Treinando a FCN\n",
        "fcn_losses, fcn_accuracies = train_model(fcn_model, trainloader, criterion, optimizer)"
      ]
    },
    {
      "cell_type": "code",
      "execution_count": 13,
      "metadata": {
        "id": "07q-vxwV36W3",
        "outputId": "204fde3b-bfcb-4364-ce13-e5b925df275b",
        "colab": {
          "base_uri": "https://localhost:8080/"
        }
      },
      "outputs": [
        {
          "output_type": "stream",
          "name": "stdout",
          "text": [
            "Acurácia da rede na base de teste: 91.80%\n"
          ]
        }
      ],
      "source": [
        "# Testando a FCN\n",
        "test_model(fcn_model, testloader)"
      ]
    },
    {
      "cell_type": "markdown",
      "metadata": {
        "id": "5CfOCaUh36W3"
      },
      "source": [
        "## Substituindo a Rede Neural por uma CNN\n",
        "\n",
        "Agora, vamos substituir a Rede Neural Totalmente Conectada por uma Rede Neural Convolucional (CNN) e comparar os resultados."
      ]
    },
    {
      "cell_type": "code",
      "execution_count": 14,
      "metadata": {
        "id": "9-hGBjYc36W3"
      },
      "outputs": [],
      "source": [
        "class CNN(nn.Module):\n",
        "    def __init__(self):\n",
        "        super(CNN, self).__init__()\n",
        "        self.conv1 = nn.Conv2d(1, 6, 5)\n",
        "        self.conv2 = nn.Conv2d(6, 12, 5)\n",
        "        self.fc1 = nn.Linear(12 * 4 * 4, 64)\n",
        "        self.fc2 = nn.Linear(64, 10)\n",
        "\n",
        "    def forward(self, x):\n",
        "        # CNN\n",
        "        x = F.relu(self.conv1(x))\n",
        "        x = F.max_pool2d(x, 2, 2)\n",
        "        x = F.relu(self.conv2(x))\n",
        "        x = F.max_pool2d(x, 2, 2)\n",
        "\n",
        "        # Flatten\n",
        "        x = x.view(-1, 12 * 4 * 4)\n",
        "        x = F.relu(self.fc1(x))\n",
        "        x = self.fc2(x)\n",
        "\n",
        "        return x\n",
        "\n",
        "cnn_model = CNN()"
      ]
    },
    {
      "cell_type": "code",
      "execution_count": 15,
      "metadata": {
        "id": "Imt2abk236W3",
        "outputId": "dd2f84d9-d6ba-4de2-aca2-c78fa3ba8fcf",
        "colab": {
          "base_uri": "https://localhost:8080/"
        }
      },
      "outputs": [
        {
          "output_type": "stream",
          "name": "stdout",
          "text": [
            "Total de parâmetros na CNN: 14970\n"
          ]
        }
      ],
      "source": [
        "cnn_params = count_parameters(cnn_model)\n",
        "print(f\"Total de parâmetros na CNN: {cnn_params}\")"
      ]
    },
    {
      "cell_type": "code",
      "execution_count": 16,
      "metadata": {
        "id": "PiIigy_y36W3"
      },
      "outputs": [],
      "source": [
        "criterion = nn.CrossEntropyLoss()\n",
        "optimizer = optim.SGD(cnn_model.parameters(), lr=0.01, momentum=0.9)"
      ]
    },
    {
      "cell_type": "code",
      "execution_count": 17,
      "metadata": {
        "id": "-sf16Xy536W3",
        "outputId": "10362311-b757-4707-f209-7a35a0081651",
        "colab": {
          "base_uri": "https://localhost:8080/"
        }
      },
      "outputs": [
        {
          "output_type": "stream",
          "name": "stderr",
          "text": [
            "100%|██████████| 157/157 [00:07<00:00, 21.17it/s]\n"
          ]
        },
        {
          "output_type": "stream",
          "name": "stdout",
          "text": [
            "Epoch 1, Loss: 0.274, Accuracy: 53.49%\n"
          ]
        },
        {
          "output_type": "stream",
          "name": "stderr",
          "text": [
            "100%|██████████| 157/157 [00:06<00:00, 24.56it/s]\n"
          ]
        },
        {
          "output_type": "stream",
          "name": "stdout",
          "text": [
            "Epoch 2, Loss: 0.108, Accuracy: 92.80%\n"
          ]
        },
        {
          "output_type": "stream",
          "name": "stderr",
          "text": [
            "100%|██████████| 157/157 [00:07<00:00, 21.71it/s]\n"
          ]
        },
        {
          "output_type": "stream",
          "name": "stdout",
          "text": [
            "Epoch 3, Loss: 0.069, Accuracy: 95.38%\n"
          ]
        },
        {
          "output_type": "stream",
          "name": "stderr",
          "text": [
            "100%|██████████| 157/157 [00:06<00:00, 22.98it/s]\n"
          ]
        },
        {
          "output_type": "stream",
          "name": "stdout",
          "text": [
            "Epoch 4, Loss: 0.058, Accuracy: 96.53%\n"
          ]
        },
        {
          "output_type": "stream",
          "name": "stderr",
          "text": [
            "100%|██████████| 157/157 [00:07<00:00, 21.80it/s]"
          ]
        },
        {
          "output_type": "stream",
          "name": "stdout",
          "text": [
            "Epoch 5, Loss: 0.045, Accuracy: 97.19%\n",
            "Treinamento concluído\n"
          ]
        },
        {
          "output_type": "stream",
          "name": "stderr",
          "text": [
            "\n"
          ]
        }
      ],
      "source": [
        "# Treinando a CNN\n",
        "cnn_losses, cnn_accuracies = train_model(cnn_model, trainloader, criterion, optimizer)"
      ]
    },
    {
      "cell_type": "code",
      "execution_count": 18,
      "metadata": {
        "id": "4PzOSrx236W3",
        "outputId": "8118409b-02d8-4a24-8dc2-22032de9bb23",
        "colab": {
          "base_uri": "https://localhost:8080/"
        }
      },
      "outputs": [
        {
          "output_type": "stream",
          "name": "stdout",
          "text": [
            "Acurácia da rede na base de teste: 97.00%\n"
          ]
        }
      ],
      "source": [
        "# Testando a CNN\n",
        "test_model(cnn_model, testloader)"
      ]
    },
    {
      "cell_type": "markdown",
      "metadata": {
        "id": "JGlwx0kl36W3"
      },
      "source": [
        "## Comparando as duas redes neurais"
      ]
    },
    {
      "cell_type": "code",
      "execution_count": 19,
      "metadata": {
        "id": "AOxRJbZ836W3",
        "outputId": "2f88b2b0-4265-4b71-dc9f-8fe44476dd3c",
        "colab": {
          "base_uri": "https://localhost:8080/",
          "height": 487
        }
      },
      "outputs": [
        {
          "output_type": "display_data",
          "data": {
            "text/plain": [
              "<Figure size 1200x500 with 2 Axes>"
            ],
            "image/png": "[encoded data removed]"
          },
          "metadata": {}
        }
      ],
      "source": [
        "plt.figure(figsize=(12, 5))\n",
        "\n",
        "plt.subplot(1, 2, 1)\n",
        "plt.plot(fcn_losses, label='FCN Loss')\n",
        "plt.plot(cnn_losses, label='CNN Loss')\n",
        "plt.xlabel('Iteration')\n",
        "plt.ylabel('Loss')\n",
        "plt.title('Training Loss Curves')\n",
        "plt.legend()\n",
        "\n",
        "plt.subplot(1, 2, 2)\n",
        "plt.plot(fcn_accuracies, label='FCN Accuracy')\n",
        "plt.plot(cnn_accuracies, label='CNN Accuracy')\n",
        "plt.xlabel('Epoch')\n",
        "plt.ylabel('Accuracy (%)')\n",
        "plt.title('Training Accuracy Curves')\n",
        "plt.legend()\n",
        "\n",
        "plt.show()"
      ]
    },
    {
      "cell_type": "markdown",
      "metadata": {
        "id": "eleR-g6B36W4"
      },
      "source": [
        "## Exercícios"
      ]
    },
    {
      "cell_type": "markdown",
      "metadata": {
        "id": "wIKPeZYd36W4"
      },
      "source": [
        "### Exercício 1\n",
        "Altere a estrutura da rede e diminua o número de parâmetros na rede FC. O que se observa no resultado do treinamento?"
      ]
    },
    {
      "cell_type": "code",
      "source": [
        "class FCN2(nn.Module):\n",
        "    def __init__(self):\n",
        "        super(FCN2, self).__init__()\n",
        "        # Alteração no número de neurônios para diminuir os parâmetros\n",
        "        self.fc1 = nn.Linear(28 * 28, 64)  # Reduzido de 128 para 64\n",
        "        self.fc2 = nn.Linear(64, 32)       # Reduzido de 64 para 32\n",
        "        self.fc3 = nn.Linear(32, 10)       # Camada de saída permanece igual (10 classes)\n",
        "\n",
        "    def forward(self, x):\n",
        "        x = x.view(-1, 28 * 28)  # Achata a entrada de 28x28 para um vetor 1D de 784 elementos\n",
        "        x = F.relu(self.fc1(x))  # Aplica ReLU na camada 1\n",
        "        x = F.relu(self.fc2(x))  # Aplica ReLU na camada 2\n",
        "        x = self.fc3(x)          # Aplica a camada de saída (sem ativação aqui)\n",
        "        return x\n",
        "\n",
        "fcn_model_2 = FCN2()\n",
        "\n",
        "fcn_params = count_parameters(fcn_model_2)\n",
        "print(f\"Total de parâmetros na FCN: {fcn_params}\")\n",
        "\n",
        "# Verificando a arquitetura e o número de parâmetros\n",
        "print(fcn_model_2)\n",
        "\n",
        "criterion = nn.CrossEntropyLoss()\n",
        "optimizer = optim.SGD(fcn_model_2.parameters(), lr=0.01, momentum=0.9)\n",
        "\n",
        "\n",
        "# Treinando a FCN2\n",
        "fcn_losses, fcn_accuracies = train_model(fcn_model_2, trainloader, criterion, optimizer)\n",
        "\n",
        "# Testando a FCN2\n",
        "test_model(fcn_model_2, testloader)"
      ],
      "metadata": {
        "colab": {
          "base_uri": "https://localhost:8080/"
        },
        "id": "9dEvlrZ-73ln",
        "outputId": "7b7ca197-a1f1-4caa-ed3f-2a23e5bdc894"
      },
      "execution_count": 20,
      "outputs": [
        {
          "output_type": "stream",
          "name": "stdout",
          "text": [
            "Total de parâmetros na FCN: 52650\n",
            "FCN2(\n",
            "  (fc1): Linear(in_features=784, out_features=64, bias=True)\n",
            "  (fc2): Linear(in_features=64, out_features=32, bias=True)\n",
            "  (fc3): Linear(in_features=32, out_features=10, bias=True)\n",
            ")\n"
          ]
        },
        {
          "output_type": "stream",
          "name": "stderr",
          "text": [
            "100%|██████████| 157/157 [00:04<00:00, 34.15it/s]\n"
          ]
        },
        {
          "output_type": "stream",
          "name": "stdout",
          "text": [
            "Epoch 1, Loss: 0.260, Accuracy: 67.71%\n"
          ]
        },
        {
          "output_type": "stream",
          "name": "stderr",
          "text": [
            "100%|██████████| 157/157 [00:04<00:00, 32.43it/s]\n"
          ]
        },
        {
          "output_type": "stream",
          "name": "stdout",
          "text": [
            "Epoch 2, Loss: 0.199, Accuracy: 87.38%\n"
          ]
        },
        {
          "output_type": "stream",
          "name": "stderr",
          "text": [
            "100%|██████████| 157/157 [00:05<00:00, 28.73it/s]\n"
          ]
        },
        {
          "output_type": "stream",
          "name": "stdout",
          "text": [
            "Epoch 3, Loss: 0.169, Accuracy: 89.51%\n"
          ]
        },
        {
          "output_type": "stream",
          "name": "stderr",
          "text": [
            "100%|██████████| 157/157 [00:05<00:00, 27.10it/s]\n"
          ]
        },
        {
          "output_type": "stream",
          "name": "stdout",
          "text": [
            "Epoch 4, Loss: 0.126, Accuracy: 91.00%\n"
          ]
        },
        {
          "output_type": "stream",
          "name": "stderr",
          "text": [
            "100%|██████████| 157/157 [00:06<00:00, 25.21it/s]\n"
          ]
        },
        {
          "output_type": "stream",
          "name": "stdout",
          "text": [
            "Epoch 5, Loss: 0.133, Accuracy: 92.45%\n",
            "Treinamento concluído\n",
            "Acurácia da rede na base de teste: 90.70%\n"
          ]
        }
      ]
    },
    {
      "cell_type": "markdown",
      "source": [
        "Nessa nova estrutura de rede, o total de parâmetros na FCN mudou: saiu de 109386 para 52650. Da mesma forma, a acurácia de treino e teste também mudou. No primeiro modelo, a acurácia de treino era 93.01% e de teste era 92.20 %. Nesse novo modelo, a acurácia de treino diminuiu para 92,76% e de teste passou para 90.30%.Portanto, a redução de parâmetros não foi positiva no aprimoramento desse modelo."
      ],
      "metadata": {
        "id": "0mnlrvOhR57w"
      }
    },
    {
      "cell_type": "markdown",
      "metadata": {
        "id": "xmAypRrs36W4"
      },
      "source": [
        "### Exercício 2\n",
        "Aumente o número de filtros convolucionais na CNN. O que se observa no resultado do treinamento em comparação ao anterior? Lembre-se de ajustar os valores das camadas seguintes."
      ]
    },
    {
      "cell_type": "code",
      "execution_count": 21,
      "metadata": {
        "id": "Pgz9T-1N36W4",
        "colab": {
          "base_uri": "https://localhost:8080/"
        },
        "outputId": "6de4d995-f785-4b5c-f8a7-472514b0e66d"
      },
      "outputs": [
        {
          "output_type": "stream",
          "name": "stdout",
          "text": [
            "CNN2(\n",
            "  (conv1): Conv2d(1, 10, kernel_size=(5, 5), stride=(1, 1))\n",
            "  (conv2): Conv2d(10, 20, kernel_size=(5, 5), stride=(1, 1))\n",
            "  (fc1): Linear(in_features=320, out_features=64, bias=True)\n",
            "  (fc2): Linear(in_features=64, out_features=10, bias=True)\n",
            ")\n",
            "Total de parâmetros na CNN: 26474\n"
          ]
        },
        {
          "output_type": "stream",
          "name": "stderr",
          "text": [
            "100%|██████████| 157/157 [00:08<00:00, 18.35it/s]\n"
          ]
        },
        {
          "output_type": "stream",
          "name": "stdout",
          "text": [
            "Epoch 1, Loss: 0.195, Accuracy: 67.87%\n"
          ]
        },
        {
          "output_type": "stream",
          "name": "stderr",
          "text": [
            "100%|██████████| 157/157 [00:07<00:00, 21.22it/s]\n"
          ]
        },
        {
          "output_type": "stream",
          "name": "stdout",
          "text": [
            "Epoch 2, Loss: 0.097, Accuracy: 93.30%\n"
          ]
        },
        {
          "output_type": "stream",
          "name": "stderr",
          "text": [
            "100%|██████████| 157/157 [00:08<00:00, 18.47it/s]\n"
          ]
        },
        {
          "output_type": "stream",
          "name": "stdout",
          "text": [
            "Epoch 3, Loss: 0.068, Accuracy: 95.55%\n"
          ]
        },
        {
          "output_type": "stream",
          "name": "stderr",
          "text": [
            "100%|██████████| 157/157 [00:08<00:00, 18.83it/s]\n"
          ]
        },
        {
          "output_type": "stream",
          "name": "stdout",
          "text": [
            "Epoch 4, Loss: 0.045, Accuracy: 96.96%\n"
          ]
        },
        {
          "output_type": "stream",
          "name": "stderr",
          "text": [
            "100%|██████████| 157/157 [00:07<00:00, 20.92it/s]\n"
          ]
        },
        {
          "output_type": "stream",
          "name": "stdout",
          "text": [
            "Epoch 5, Loss: 0.032, Accuracy: 97.50%\n",
            "Treinamento concluído\n",
            "Acurácia da rede na base de teste: 96.80%\n"
          ]
        }
      ],
      "source": [
        "class CNN2(nn.Module):\n",
        "    def __init__(self):\n",
        "        super(CNN2, self).__init__()\n",
        "        # Aumentando o número de filtros\n",
        "        self.conv1 = nn.Conv2d(1, 10, 5)  # De 6 para 10 filtros\n",
        "        self.conv2 = nn.Conv2d(10, 20, 5)  # De 10 para 20 filtros\n",
        "        self.fc1 = nn.Linear(20 * 4 * 4, 64)  # Atualizando o tamanho da entrada para a camada totalmente conectada\n",
        "        self.fc2 = nn.Linear(64, 10)\n",
        "\n",
        "    def forward(self, x):\n",
        "        # CNN\n",
        "        x = F.relu(self.conv1(x))\n",
        "        x = F.max_pool2d(x, 2, 2)\n",
        "        x = F.relu(self.conv2(x))\n",
        "        x = F.max_pool2d(x, 2, 2)\n",
        "\n",
        "        # Flatten\n",
        "        x = x.view(-1, 20 * 4 * 4)  # Atualizando o tamanho após a segunda camada convolucional\n",
        "        x = F.relu(self.fc1(x))\n",
        "        x = self.fc2(x)\n",
        "\n",
        "        return x\n",
        "\n",
        "# Instanciando o modelo\n",
        "cnn_model2 = CNN2()\n",
        "\n",
        "# Verificando a arquitetura e o número de parâmetros\n",
        "print(cnn_model2)\n",
        "\n",
        "cnn_params2 = count_parameters(cnn_model2)\n",
        "print(f\"Total de parâmetros na CNN: {cnn_params2}\")\n",
        "\n",
        "criterion = nn.CrossEntropyLoss()\n",
        "optimizer = optim.SGD(cnn_model2.parameters(), lr=0.01, momentum=0.9)\n",
        "\n",
        "# Treinando a CNN\n",
        "cnn_losses, cnn_accuracies = train_model(cnn_model2, trainloader, criterion, optimizer)\n",
        "\n",
        "# Testando a CNN\n",
        "test_model(cnn_model2, testloader)\n",
        "\n"
      ]
    },
    {
      "cell_type": "markdown",
      "source": [
        "A acurácia do antigo modelo foi 97.31% (treino) e 97.40% (teste). E com esse novo modelo, com o aumento de parâmetros de 14970 para 26474, a acurácia melhorou para 97.54% (treino) e 97.50% (teste).Portanto, o aumento de parâmetros foi positivo no aprimoramento desse modelo."
      ],
      "metadata": {
        "id": "-bpEsF7hdeOX"
      }
    }
  ],
  "metadata": {
    "kernelspec": {
      "display_name": "base",
      "language": "python",
      "name": "python3"
    },
    "language_info": {
      "codemirror_mode": {
        "name": "ipython",
        "version": 3
      },
      "file_extension": ".py",
      "mimetype": "text/x-python",
      "name": "python",
      "nbconvert_exporter": "python",
      "pygments_lexer": "ipython3",
      "version": "3.10.13"
    },
    "colab": {
      "provenance": [],
      "include_colab_link": true
    }
  },
  "nbformat": 4,
  "nbformat_minor": 0
}