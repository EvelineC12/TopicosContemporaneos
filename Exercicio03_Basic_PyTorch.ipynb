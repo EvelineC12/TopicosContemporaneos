{
  "cells": [
    {
      "cell_type": "markdown",
      "metadata": {
        "id": "view-in-github",
        "colab_type": "text"
      },
      "source": [
        "<a href=\"https://colab.research.google.com/github/EvelineC12/TopicosContemporaneos/blob/main/Exercicio03_Basic_PyTorch.ipynb\" target=\"_parent\"><img src=\"https://colab.research.google.com/assets/colab-badge.svg\" alt=\"Open In Colab\"/></a>"
      ]
    },
    {
      "cell_type": "markdown",
      "source": [
        "**Terceiro Trabalho**\n",
        "\n",
        "**Nome: Eveline Cavalcanti Feliciano Pontual**"
      ],
      "metadata": {
        "id": "cE-HFP0O0V6H"
      }
    },
    {
      "cell_type": "code",
      "execution_count": 5,
      "metadata": {
        "id": "2SSb3QikzoMf"
      },
      "outputs": [],
      "source": [
        "# Importando PyTorch\n",
        "import torch"
      ]
    },
    {
      "cell_type": "markdown",
      "metadata": {
        "id": "GcyoxeFNzoMg"
      },
      "source": [
        "# Introdução ao PyTorch\n",
        "\n",
        "## O que é PyTorch?\n",
        "PyTorch é uma biblioteca de aprendizado profundo de código aberto desenvolvida pelo Facebook's AI Research lab (FAIR). Ela é amplamente utilizada para tarefas de visão computacional e processamento de linguagem natural."
      ]
    },
    {
      "cell_type": "markdown",
      "metadata": {
        "id": "JjsmcIrvzoMi"
      },
      "source": [
        "### História e contexto\n",
        "PyTorch foi lançado em janeiro de 2017. Ele é baseado na biblioteca Torch, que é uma estrutura de aprendizado de máquina em Lua. PyTorch é conhecido por sua facilidade de uso e integração com Python, o que o torna popular entre pesquisadores e engenheiros.\n",
        "\n",
        "### Comparação com outras bibliotecas\n",
        "- **TensorFlow**: Desenvolvido pelo Google, TensorFlow é uma das bibliotecas de aprendizado profundo mais populares. Enquanto TensorFlow é conhecido por sua escalabilidade e produção, PyTorch é elogiado por sua facilidade de uso e flexibilidade.\n",
        "- **NumPy**: NumPy é uma biblioteca fundamental para computação científica em Python. PyTorch usa tensores, que são similares aos arrays do NumPy, mas com suporte para computação em GPU."
      ]
    },
    {
      "cell_type": "markdown",
      "metadata": {
        "id": "8g7TUql3zoMi"
      },
      "source": [
        "## O que são tensores?\n",
        "Tensores são a estrutura de dados fundamental em PyTorch. Eles são similares aos arrays do NumPy, mas com suporte para computação em GPU.\n",
        "\n",
        "Tensores 1D, 2D, 3D, etc.\n",
        "- 1D: Vetores\n",
        "- 2D: Matrizes\n",
        "- 3D: Matrizes tridimensionais (cubos de dados)\n",
        "- ND: Tensores de N dimensões"
      ]
    },
    {
      "cell_type": "code",
      "execution_count": 6,
      "metadata": {
        "id": "IvqDBNrnzoMi",
        "colab": {
          "base_uri": "https://localhost:8080/"
        },
        "outputId": "98267a84-8cf8-4863-a73e-56c3f510fcbb"
      },
      "outputs": [
        {
          "output_type": "stream",
          "name": "stdout",
          "text": [
            "tensor([1, 2, 3, 4])\n"
          ]
        }
      ],
      "source": [
        "# Tensor 1D\n",
        "tensor_1d = torch.tensor([1, 2, 3, 4])\n",
        "print(tensor_1d)"
      ]
    },
    {
      "cell_type": "code",
      "execution_count": 7,
      "metadata": {
        "id": "DA6MuBfNzoMj",
        "colab": {
          "base_uri": "https://localhost:8080/"
        },
        "outputId": "0df0fe73-0728-4d0f-fbf8-86d73e5f15ed"
      },
      "outputs": [
        {
          "output_type": "stream",
          "name": "stdout",
          "text": [
            "tensor([[1, 2, 3],\n",
            "        [4, 5, 6]])\n"
          ]
        }
      ],
      "source": [
        "# Tensor 2D\n",
        "tensor_2d = torch.tensor([[1, 2, 3], [4, 5, 6]])\n",
        "print(tensor_2d)"
      ]
    },
    {
      "cell_type": "code",
      "execution_count": 8,
      "metadata": {
        "id": "ruAHMxh0zoMj",
        "colab": {
          "base_uri": "https://localhost:8080/"
        },
        "outputId": "eab346c7-2a3b-49fd-ab00-ef7fcb9bd41f"
      },
      "outputs": [
        {
          "output_type": "stream",
          "name": "stdout",
          "text": [
            "tensor([[[1, 2],\n",
            "         [3, 4]],\n",
            "\n",
            "        [[5, 6],\n",
            "         [7, 8]]])\n"
          ]
        }
      ],
      "source": [
        "# Tensor 3D\n",
        "tensor_3d = torch.tensor([[[1, 2], [3, 4]], [[5, 6], [7, 8]]])\n",
        "print(tensor_3d)"
      ]
    },
    {
      "cell_type": "markdown",
      "metadata": {
        "id": "zA4yCQiXzoMj"
      },
      "source": [
        "### Tipos de dados\n",
        "Os tensores em PyTorch suportam vários tipos de dados, como inteiros e floats. O tipo de dado pode ser especificado durante a criação do tensor."
      ]
    },
    {
      "cell_type": "code",
      "execution_count": 9,
      "metadata": {
        "id": "OfJGXPpgzoMj",
        "colab": {
          "base_uri": "https://localhost:8080/"
        },
        "outputId": "f907a6d0-9ba1-441a-d994-f0e7dff1c102"
      },
      "outputs": [
        {
          "output_type": "stream",
          "name": "stdout",
          "text": [
            "tensor([1, 2, 3], dtype=torch.int32)\n"
          ]
        }
      ],
      "source": [
        "# Criação de um tensor de inteiros\n",
        "tensor_int = torch.tensor([1, 2, 3], dtype=torch.int32)\n",
        "print(tensor_int)"
      ]
    },
    {
      "cell_type": "code",
      "execution_count": 10,
      "metadata": {
        "id": "ZMJlF3YxzoMk",
        "colab": {
          "base_uri": "https://localhost:8080/"
        },
        "outputId": "e9cf9d85-98eb-4c89-fdfb-dbc52983ab65"
      },
      "outputs": [
        {
          "output_type": "stream",
          "name": "stdout",
          "text": [
            "tensor([1., 2., 3.])\n"
          ]
        }
      ],
      "source": [
        "# Criação de um tensor de floats\n",
        "tensor_float = torch.tensor([1.0, 2.0, 3.0], dtype=torch.float32)\n",
        "print(tensor_float)"
      ]
    },
    {
      "cell_type": "markdown",
      "metadata": {
        "id": "aN4skYOfzoMk"
      },
      "source": [
        "## Funções de Criação de Tensores\n",
        "PyTorch fornece várias funções utilitárias para criar tensores de forma eficiente.\n",
        "\n",
        "- `torch.zeros`: Cria um tensor preenchido com zeros.\n",
        "- `torch.zeros_like`: Cria um tensor preenchido com zeros, com as mesmas dimensões de um tensor dado.\n",
        "- `torch.ones`: Cria um tensor preenchido com uns.\n",
        "- `torch.ones_like`: Cria um tensor preenchido com uns, com as mesmas dimensões de um tensor dado.\n",
        "- `torch.linspace`: Cria um tensor com valores linearmente espaçados entre dois pontos.\n",
        "- `torch.arange`: Cria um tensor com valores em uma faixa específica com um passo definido."
      ]
    },
    {
      "cell_type": "code",
      "execution_count": 11,
      "metadata": {
        "id": "ATGLXlpazoMk",
        "colab": {
          "base_uri": "https://localhost:8080/"
        },
        "outputId": "7cc6e4c3-935a-4850-9095-484dd8efbd07"
      },
      "outputs": [
        {
          "output_type": "stream",
          "name": "stdout",
          "text": [
            "tensor([[[0., 0., 0., 0., 0.],\n",
            "         [0., 0., 0., 0., 0.],\n",
            "         [0., 0., 0., 0., 0.]],\n",
            "\n",
            "        [[0., 0., 0., 0., 0.],\n",
            "         [0., 0., 0., 0., 0.],\n",
            "         [0., 0., 0., 0., 0.]],\n",
            "\n",
            "        [[0., 0., 0., 0., 0.],\n",
            "         [0., 0., 0., 0., 0.],\n",
            "         [0., 0., 0., 0., 0.]]])\n"
          ]
        }
      ],
      "source": [
        "# Criação de tensores de zeros\n",
        "tensor_zeros = torch.zeros(3, 3, 5)\n",
        "print(tensor_zeros)"
      ]
    },
    {
      "cell_type": "code",
      "execution_count": 12,
      "metadata": {
        "id": "aEzmyhdrzoMk",
        "colab": {
          "base_uri": "https://localhost:8080/"
        },
        "outputId": "c5025f88-2cdd-45f6-93a2-9690d76da9ac"
      },
      "outputs": [
        {
          "output_type": "stream",
          "name": "stdout",
          "text": [
            "tensor([[0, 0, 0],\n",
            "        [0, 0, 0]])\n"
          ]
        }
      ],
      "source": [
        "# Criação de tensores de zeros_like\n",
        "tensor_zeros_like = torch.zeros_like(tensor_2d)\n",
        "print(tensor_zeros_like)"
      ]
    },
    {
      "cell_type": "code",
      "execution_count": 13,
      "metadata": {
        "id": "KuigG0QHzoMl",
        "colab": {
          "base_uri": "https://localhost:8080/"
        },
        "outputId": "4162b73a-1104-4792-d0f9-93f0c632483f"
      },
      "outputs": [
        {
          "output_type": "stream",
          "name": "stdout",
          "text": [
            "tensor([[1., 1.],\n",
            "        [1., 1.]])\n"
          ]
        }
      ],
      "source": [
        "# Criação de tensores de uns\n",
        "tensor_ones = torch.ones(2, 2)\n",
        "print(tensor_ones)"
      ]
    },
    {
      "cell_type": "code",
      "execution_count": 14,
      "metadata": {
        "id": "J_ggJh_1zoMl",
        "colab": {
          "base_uri": "https://localhost:8080/"
        },
        "outputId": "f9dc409b-8fe3-45b7-fae4-34ac986d65a3"
      },
      "outputs": [
        {
          "output_type": "stream",
          "name": "stdout",
          "text": [
            "tensor([[1, 1, 1],\n",
            "        [1, 1, 1]])\n"
          ]
        }
      ],
      "source": [
        "# Criação de tensores de ones_like\n",
        "tensor_ones_like = torch.ones_like(tensor_2d)\n",
        "print(tensor_ones_like)"
      ]
    },
    {
      "cell_type": "code",
      "execution_count": 15,
      "metadata": {
        "id": "oZzHJSS2zoMl",
        "colab": {
          "base_uri": "https://localhost:8080/"
        },
        "outputId": "e0d89d21-bd90-475e-cb3a-d5705e76719f"
      },
      "outputs": [
        {
          "output_type": "stream",
          "name": "stdout",
          "text": [
            "tensor([ 0.0000,  2.5000,  5.0000,  7.5000, 10.0000])\n"
          ]
        }
      ],
      "source": [
        "# Linspace\n",
        "tensor_linspace = torch.linspace(0, 10, steps=5)\n",
        "print(tensor_linspace)"
      ]
    },
    {
      "cell_type": "code",
      "execution_count": 16,
      "metadata": {
        "id": "dqnr9Wi1zoMl",
        "colab": {
          "base_uri": "https://localhost:8080/"
        },
        "outputId": "4ee89720-2fd5-4e98-bcef-754d2a6d319a"
      },
      "outputs": [
        {
          "output_type": "stream",
          "name": "stdout",
          "text": [
            "tensor([0.0000, 2.5000, 5.0000, 7.5000])\n"
          ]
        }
      ],
      "source": [
        "# Arange\n",
        "tensor_arange = torch.arange(0, 10, step=2.5)\n",
        "print(tensor_arange)"
      ]
    },
    {
      "cell_type": "markdown",
      "metadata": {
        "id": "uC5h7CcyzoMl"
      },
      "source": [
        "## Indexação e Fatiamento\n",
        "A indexação e o fatiamento em PyTorch são similares ao NumPy, permitindo acessar e modificar partes específicas de um tensor."
      ]
    },
    {
      "cell_type": "code",
      "execution_count": 17,
      "metadata": {
        "id": "zOmwh-K5zoMl",
        "colab": {
          "base_uri": "https://localhost:8080/"
        },
        "outputId": "5be652ca-7741-4a41-c60f-fcace74244f7"
      },
      "outputs": [
        {
          "output_type": "stream",
          "name": "stdout",
          "text": [
            "Tensor original:\n",
            " tensor([[1, 2, 3],\n",
            "        [4, 5, 6],\n",
            "        [7, 8, 9]])\n"
          ]
        }
      ],
      "source": [
        "# Criando um tensor de exemplo\n",
        "tensor = torch.tensor([[1, 2, 3], [4, 5, 6], [7, 8, 9]])\n",
        "print(\"Tensor original:\\n\", tensor)"
      ]
    },
    {
      "cell_type": "code",
      "execution_count": 18,
      "metadata": {
        "id": "WPrCAeSWzoMl",
        "colab": {
          "base_uri": "https://localhost:8080/"
        },
        "outputId": "d9cf22a2-8c36-45d9-bfbb-6446441af895"
      },
      "outputs": [
        {
          "output_type": "stream",
          "name": "stdout",
          "text": [
            "Elemento na posição [1, 2]: tensor(6)\n"
          ]
        }
      ],
      "source": [
        "# Indexação por elementos específicos\n",
        "print(\"Elemento na posição [1, 2]:\", tensor[1, 2])  # Acessa o valor '6'"
      ]
    },
    {
      "cell_type": "code",
      "execution_count": 19,
      "metadata": {
        "id": "DN7TGa_TzoMm",
        "colab": {
          "base_uri": "https://localhost:8080/"
        },
        "outputId": "702498ad-ed8b-41d3-9ecf-d5d6c61847e4"
      },
      "outputs": [
        {
          "output_type": "stream",
          "name": "stdout",
          "text": [
            "Primeira linha: tensor([1, 2, 3])\n",
            "Segunda coluna: tensor([2, 5, 8])\n"
          ]
        }
      ],
      "source": [
        "# Indexação\n",
        "print(\"Primeira linha:\", tensor[0, :])  # Obtendo a primeira linha\n",
        "print(\"Segunda coluna:\", tensor[:, 1])  # Obtendo a segunda coluna"
      ]
    },
    {
      "cell_type": "code",
      "execution_count": 20,
      "metadata": {
        "id": "646wLl5rzoMm",
        "colab": {
          "base_uri": "https://localhost:8080/"
        },
        "outputId": "10a66c73-95ff-4210-e38c-cbb252d5263b"
      },
      "outputs": [
        {
          "output_type": "stream",
          "name": "stdout",
          "text": [
            "Subtensor a partir da segunda linha e segunda coluna:\n",
            " tensor([[5, 6],\n",
            "        [8, 9]])\n"
          ]
        }
      ],
      "source": [
        "# Fatiamento\n",
        "print(\"Subtensor a partir da segunda linha e segunda coluna:\\n\", tensor[1:, 1:])"
      ]
    },
    {
      "cell_type": "code",
      "execution_count": 21,
      "metadata": {
        "id": "9z_NuRFVzoMm",
        "colab": {
          "base_uri": "https://localhost:8080/"
        },
        "outputId": "76ee17a2-1ad6-43d7-d6ae-2dfe4faadcae"
      },
      "outputs": [
        {
          "output_type": "stream",
          "name": "stdout",
          "text": [
            "Subtensor pulando uma linha e uma coluna:\n",
            " tensor([[1, 3],\n",
            "        [7, 9]])\n"
          ]
        }
      ],
      "source": [
        "# Exemplo de fatiamento complexo: pulando elementos\n",
        "print(\"Subtensor pulando uma linha e uma coluna:\\n\", tensor[::2, ::2])  # Pulando linhas e colunas"
      ]
    },
    {
      "cell_type": "code",
      "execution_count": 22,
      "metadata": {
        "id": "H-Z04UKEzoMm",
        "colab": {
          "base_uri": "https://localhost:8080/"
        },
        "outputId": "c930d2a6-ee64-439e-9c8c-b7c8e1c4c57c"
      },
      "outputs": [
        {
          "output_type": "stream",
          "name": "stdout",
          "text": [
            "Última linha do tensor: tensor([7, 8, 9])\n",
            "Última coluna do tensor: tensor([3, 6, 9])\n"
          ]
        }
      ],
      "source": [
        "# Fatiamento com valores negativos\n",
        "print(\"Última linha do tensor:\", tensor[-1, :])  # Acessando a última linha\n",
        "print(\"Última coluna do tensor:\", tensor[:, -1])  # Acessando a última coluna"
      ]
    },
    {
      "cell_type": "markdown",
      "metadata": {
        "id": "AtCXKxZ8zoMm"
      },
      "source": [
        "## Operações básicas com tensores\n",
        "PyTorch suporta várias operações básicas com tensores, como adição, multiplicação, subtração e divisão."
      ]
    },
    {
      "cell_type": "code",
      "execution_count": 23,
      "metadata": {
        "id": "rT4fFPJ3zoMn",
        "colab": {
          "base_uri": "https://localhost:8080/"
        },
        "outputId": "bc6dfce4-8f4d-4804-df18-f73a91f9b5ce"
      },
      "outputs": [
        {
          "output_type": "stream",
          "name": "stdout",
          "text": [
            "+ tensor([5, 7, 9])\n",
            "* tensor([ 4, 10, 18])\n",
            "- tensor([-3, -3, -3])\n",
            "/ tensor([0.2500, 0.4000, 0.5000])\n",
            "Produto escalar tensor(32)\n"
          ]
        }
      ],
      "source": [
        "a = torch.tensor([1, 2, 3])\n",
        "b = torch.tensor([4, 5, 6])\n",
        "\n",
        "# Adição\n",
        "print(\"+\", a + b)\n",
        "\n",
        "# Multiplicação\n",
        "print(\"*\", a * b)\n",
        "\n",
        "# Subtração\n",
        "print(\"-\", a - b)\n",
        "\n",
        "# Divisão\n",
        "print(\"/\", a / b)\n",
        "\n",
        "# Produto escalar\n",
        "dot_product = torch.dot(a, b)\n",
        "print(\"Produto escalar\", dot_product)"
      ]
    },
    {
      "cell_type": "markdown",
      "metadata": {
        "id": "BJLDAvnqzoMn"
      },
      "source": [
        "## Manipulando formato (shape)"
      ]
    },
    {
      "cell_type": "code",
      "execution_count": 24,
      "metadata": {
        "id": "rs_vH4Q1zoMn",
        "colab": {
          "base_uri": "https://localhost:8080/"
        },
        "outputId": "6f2e149e-bf40-4ad7-fe6a-a9c823a1e98d"
      },
      "outputs": [
        {
          "output_type": "stream",
          "name": "stdout",
          "text": [
            "tensor([[ 0,  1,  2],\n",
            "        [ 3,  4,  5],\n",
            "        [ 6,  7,  8],\n",
            "        [ 9, 10, 11]])\n"
          ]
        }
      ],
      "source": [
        "tensor = torch.arange(12).reshape(4, 3)\n",
        "print(tensor)"
      ]
    },
    {
      "cell_type": "code",
      "execution_count": 25,
      "metadata": {
        "id": "ysjSzIZmzoMn",
        "colab": {
          "base_uri": "https://localhost:8080/"
        },
        "outputId": "6a1e626f-2eb6-4839-991c-8b97d41d9c54"
      },
      "outputs": [
        {
          "output_type": "stream",
          "name": "stdout",
          "text": [
            "tensor([[ 0,  1],\n",
            "        [ 2,  3],\n",
            "        [ 4,  5],\n",
            "        [ 6,  7],\n",
            "        [ 8,  9],\n",
            "        [10, 11]])\n"
          ]
        }
      ],
      "source": [
        "# View\n",
        "tensor_reshaped = tensor.view(6, 2)\n",
        "print(tensor_reshaped)"
      ]
    },
    {
      "cell_type": "code",
      "execution_count": 26,
      "metadata": {
        "id": "iOR5nGn3zoMo",
        "colab": {
          "base_uri": "https://localhost:8080/"
        },
        "outputId": "ecae00b0-553f-4765-9c11-98485f9edd41"
      },
      "outputs": [
        {
          "output_type": "stream",
          "name": "stdout",
          "text": [
            "tensor([[ 0,  3,  6,  9],\n",
            "        [ 1,  4,  7, 10],\n",
            "        [ 2,  5,  8, 11]])\n"
          ]
        }
      ],
      "source": [
        "# Transpose\n",
        "tensor_transposed = tensor.t()\n",
        "print(tensor_transposed)"
      ]
    },
    {
      "cell_type": "markdown",
      "metadata": {
        "id": "4uuhm061zoMo"
      },
      "source": [
        "### Flatten\n",
        "A função flatten retorna um tensor 1D contendo todos os elementos do tensor original"
      ]
    },
    {
      "cell_type": "code",
      "execution_count": 27,
      "metadata": {
        "id": "SfIRxe0AzoMo",
        "colab": {
          "base_uri": "https://localhost:8080/"
        },
        "outputId": "2bd39dd0-dd5f-45fd-9f82-212718dfe54a"
      },
      "outputs": [
        {
          "output_type": "stream",
          "name": "stdout",
          "text": [
            "tensor([ 0,  1,  2,  3,  4,  5,  6,  7,  8,  9, 10, 11])\n"
          ]
        }
      ],
      "source": [
        "# Flatten\n",
        "tensor_flattened = tensor.flatten()\n",
        "print(tensor_flattened)"
      ]
    },
    {
      "cell_type": "code",
      "execution_count": 28,
      "metadata": {
        "id": "nb9FE1FZzoMp",
        "colab": {
          "base_uri": "https://localhost:8080/"
        },
        "outputId": "59081684-f253-4040-a6c4-20e630e201cb"
      },
      "outputs": [
        {
          "output_type": "stream",
          "name": "stdout",
          "text": [
            "tensor([[[[ 0],\n",
            "          [ 1],\n",
            "          [ 2],\n",
            "          [ 3],\n",
            "          [ 4],\n",
            "          [ 5]],\n",
            "\n",
            "         [[ 6],\n",
            "          [ 7],\n",
            "          [ 8],\n",
            "          [ 9],\n",
            "          [10],\n",
            "          [11]]]])\n",
            "torch.Size([1, 2, 6, 1])\n"
          ]
        }
      ],
      "source": [
        "# Reshape\n",
        "tensor_reshaped = tensor.reshape(1, 2, 6, 1)\n",
        "print(tensor_reshaped)\n",
        "print(tensor_reshaped.shape)"
      ]
    },
    {
      "cell_type": "markdown",
      "metadata": {
        "id": "hox5diTqzoMp"
      },
      "source": [
        "### Squeeze e Unsqueeze\n",
        "- `squeeze`: Remove dimensões de tamanho 1 de um tensor.\n",
        "- `unsqueeze`: Adiciona uma dimensão de tamanho 1 em um tensor."
      ]
    },
    {
      "cell_type": "code",
      "execution_count": 29,
      "metadata": {
        "id": "QadNbkbKzoMp",
        "colab": {
          "base_uri": "https://localhost:8080/"
        },
        "outputId": "ca6490d9-f7f5-48f4-962d-4cfbe600c552"
      },
      "outputs": [
        {
          "output_type": "stream",
          "name": "stdout",
          "text": [
            "tensor([[ 0,  1,  2,  3,  4,  5],\n",
            "        [ 6,  7,  8,  9, 10, 11]])\n",
            "torch.Size([2, 6])\n"
          ]
        }
      ],
      "source": [
        "# Squeeze\n",
        "tensor_squeezed = tensor_reshaped.squeeze()\n",
        "print(tensor_squeezed)\n",
        "print(tensor_squeezed.shape)"
      ]
    },
    {
      "cell_type": "code",
      "execution_count": 30,
      "metadata": {
        "id": "JKMdU_OfzoMp",
        "colab": {
          "base_uri": "https://localhost:8080/"
        },
        "outputId": "94665670-c858-4bf5-92de-fa563da89d6d"
      },
      "outputs": [
        {
          "output_type": "stream",
          "name": "stdout",
          "text": [
            "tensor([[[ 0,  1,  2,  3,  4,  5],\n",
            "         [ 6,  7,  8,  9, 10, 11]]])\n",
            "torch.Size([1, 2, 6])\n"
          ]
        }
      ],
      "source": [
        "# Unsqueeze\n",
        "tensor_unsqueezed = tensor_squeezed.unsqueeze(dim=0)\n",
        "print(tensor_unsqueezed)\n",
        "print(tensor_unsqueezed.shape)"
      ]
    },
    {
      "cell_type": "markdown",
      "metadata": {
        "id": "0eJ2PKhvzoMq"
      },
      "source": [
        "## Broadcasting\n",
        "O broadcasting é uma técnica que permite que tensores de diferentes formas sejam utilizados juntos em operações aritméticas. Em vez de copiar dados, o PyTorch ajusta os tensores de forma automática para que tenham formas compatíveis."
      ]
    },
    {
      "cell_type": "markdown",
      "metadata": {
        "id": "X_nqzO8uzoMq"
      },
      "source": [
        "### Adição de um Escalar\n",
        "\n",
        "Quando adicionamos um escalar a um tensor, o escalar é automaticamente expandido para a forma do tensor:"
      ]
    },
    {
      "cell_type": "code",
      "execution_count": 31,
      "metadata": {
        "id": "PAxCCjGdzoMq",
        "colab": {
          "base_uri": "https://localhost:8080/"
        },
        "outputId": "5f2e4c90-1ecf-4118-a7af-46cc68f046d1"
      },
      "outputs": [
        {
          "output_type": "stream",
          "name": "stdout",
          "text": [
            "tensor([[11, 12, 13],\n",
            "        [14, 15, 16]])\n"
          ]
        }
      ],
      "source": [
        "# Cria um tensor 2x3\n",
        "tensor = torch.tensor([[1, 2, 3], [4, 5, 6]])\n",
        "\n",
        "# Adiciona um escalar\n",
        "scalar = 10\n",
        "\n",
        "# Broadcasting para adicionar o escalar a cada elemento do tensor\n",
        "result = tensor + scalar\n",
        "print(result)"
      ]
    },
    {
      "cell_type": "markdown",
      "metadata": {
        "id": "MPezzWAXzoMq"
      },
      "source": [
        "### Adição de Tensores com Diferentes Dimensões\n",
        "\n",
        "Vamos adicionar um tensor 2x3 com um tensor 1x3. Neste caso, o tensor 1x3 será expandido (broadcasted) para uma forma 2x3:"
      ]
    },
    {
      "cell_type": "code",
      "execution_count": 32,
      "metadata": {
        "id": "7aw0NvpezoMr",
        "colab": {
          "base_uri": "https://localhost:8080/"
        },
        "outputId": "2884941c-e89a-4d9a-e089-01e25ff5c47b"
      },
      "outputs": [
        {
          "output_type": "stream",
          "name": "stdout",
          "text": [
            "tensor([[11, 22, 33],\n",
            "        [14, 25, 36]])\n"
          ]
        }
      ],
      "source": [
        "# Cria um tensor 2x3\n",
        "tensor_a = torch.tensor([[1, 2, 3], [4, 5, 6]])\n",
        "\n",
        "# Cria um tensor 1x3\n",
        "tensor_b = torch.tensor([10, 20, 30])\n",
        "\n",
        "# Broadcasting para adicionar tensores de diferentes formas\n",
        "result = tensor_a + tensor_b\n",
        "print(result)"
      ]
    },
    {
      "cell_type": "markdown",
      "metadata": {
        "id": "I1UrbA6NzoMr"
      },
      "source": [
        "### Regras de Broadcasting\n",
        "\n",
        "Para que o broadcasting funcione, os tensores devem seguir algumas regras:\n",
        "\n",
        "1. **Compatibilidade de Dimensões**: As dimensões dos tensores devem ser compatíveis. Duas dimensões são compatíveis se forem iguais ou se uma delas for 1.\n",
        "2. **Expansão Automática**: Se uma dimensão de um tensor for 1, ela será expandida para corresponder à dimensão do outro tensor.\n",
        "\n",
        "No exemplo a seguir, o tensor `tensor_c` de forma 2x1 é expandido para 2x3, e o tensor `tensor_d` de forma 1x3 é expandido para 2x3. O resultado é um tensor 2x3 onde cada elemento é o produto dos elementos correspondentes."
      ]
    },
    {
      "cell_type": "code",
      "execution_count": 33,
      "metadata": {
        "id": "6vrg4jKCzoMr",
        "colab": {
          "base_uri": "https://localhost:8080/"
        },
        "outputId": "4d2ecc92-e3d0-4271-a24c-12712a5e3194"
      },
      "outputs": [
        {
          "output_type": "stream",
          "name": "stdout",
          "text": [
            "tensor([[10, 20, 30],\n",
            "        [20, 40, 60]])\n"
          ]
        }
      ],
      "source": [
        "# Cria um tensor 2x1\n",
        "tensor_c = torch.tensor([[1], [2]])\n",
        "\n",
        "# Cria um tensor 1x3\n",
        "tensor_d = torch.tensor([10, 20, 30])\n",
        "\n",
        "# Broadcasting para multiplicar tensores de diferentes formas\n",
        "result = tensor_c * tensor_d\n",
        "print(result)"
      ]
    },
    {
      "cell_type": "markdown",
      "metadata": {
        "id": "QrK_rTAKzoMr"
      },
      "source": [
        "## Operações de Redução em PyTorch\n",
        "\n",
        "As operações de redução são usadas para reduzir as dimensões de um tensor, aplicando operações como soma, média, mínimo e máximo. Essas operações são fundamentais em várias aplicações de machine learning e deep learning."
      ]
    },
    {
      "cell_type": "code",
      "execution_count": 34,
      "metadata": {
        "id": "_s-riJ2zzoMr",
        "colab": {
          "base_uri": "https://localhost:8080/"
        },
        "outputId": "c02cddb3-1035-4647-91ec-4804fd33ac46"
      },
      "outputs": [
        {
          "output_type": "stream",
          "name": "stdout",
          "text": [
            "Tensor original:\n",
            " tensor([[1., 2., 3.],\n",
            "        [4., 5., 6.]])\n",
            "torch.Size([2, 3])\n"
          ]
        }
      ],
      "source": [
        "# Cria um tensor 2x3\n",
        "tensor = torch.tensor([[1.0, 2.0, 3.0], [4.0, 5.0, 6.0]])\n",
        "print(\"Tensor original:\\n\", tensor)\n",
        "print(tensor.shape)"
      ]
    },
    {
      "cell_type": "markdown",
      "metadata": {
        "id": "15nnjaq5zoMr"
      },
      "source": [
        "### Soma de Todos os Elementos\n",
        "\n",
        "A função `torch.sum` calcula a soma de todos os elementos do tensor:"
      ]
    },
    {
      "cell_type": "code",
      "execution_count": 35,
      "metadata": {
        "id": "neLDSlpwzoMr",
        "colab": {
          "base_uri": "https://localhost:8080/"
        },
        "outputId": "fa27f918-8244-478e-d425-97dc5ceb1cc4"
      },
      "outputs": [
        {
          "output_type": "stream",
          "name": "stdout",
          "text": [
            "Soma de todos os elementos: 21.0\n"
          ]
        }
      ],
      "source": [
        "# Soma de todos os elementos do tensor\n",
        "sum_all = torch.sum(tensor)\n",
        "print(\"Soma de todos os elementos:\", sum_all.item())"
      ]
    },
    {
      "cell_type": "markdown",
      "metadata": {
        "id": "dredqzWvzoMr"
      },
      "source": [
        "### Soma ao Longo de um Eixo\n",
        "\n",
        "Podemos calcular a soma ao longo de um eixo específico, usando o parâmetro `dim`:"
      ]
    },
    {
      "cell_type": "code",
      "execution_count": 36,
      "metadata": {
        "id": "_l66DSygzoMr",
        "colab": {
          "base_uri": "https://localhost:8080/"
        },
        "outputId": "baecddad-c2d0-4a04-a95e-7c6a87f22ba5"
      },
      "outputs": [
        {
          "output_type": "stream",
          "name": "stdout",
          "text": [
            "Soma ao longo do eixo 0 (linhas): tensor([5., 7., 9.])\n",
            "torch.Size([3])\n"
          ]
        }
      ],
      "source": [
        "# Soma ao longo do eixo 0 (linhas)\n",
        "sum_dim0 = torch.sum(tensor, axis=0)\n",
        "print(\"Soma ao longo do eixo 0 (linhas):\", sum_dim0)\n",
        "print(sum_dim0.shape)"
      ]
    },
    {
      "cell_type": "code",
      "execution_count": 37,
      "metadata": {
        "id": "ryPciZYPzoMs",
        "colab": {
          "base_uri": "https://localhost:8080/"
        },
        "outputId": "84184572-bbe3-4f78-82bc-9d39257dae7c"
      },
      "outputs": [
        {
          "output_type": "stream",
          "name": "stdout",
          "text": [
            "Soma ao longo do eixo 1 (colunas): tensor([ 6., 15.])\n",
            "torch.Size([2])\n"
          ]
        }
      ],
      "source": [
        "# Soma ao longo do eixo 1 (colunas)\n",
        "sum_dim1 = torch.sum(tensor, dim=1)\n",
        "print(\"Soma ao longo do eixo 1 (colunas):\", sum_dim1)\n",
        "print(sum_dim1.shape)"
      ]
    },
    {
      "cell_type": "markdown",
      "metadata": {
        "id": "84BlDuQlzoMs"
      },
      "source": [
        "### Média dos Elementos\n",
        "\n",
        "A função `torch.mean` calcula a média dos elementos do tensor:"
      ]
    },
    {
      "cell_type": "code",
      "execution_count": 38,
      "metadata": {
        "id": "9TkLdStXzoMs",
        "colab": {
          "base_uri": "https://localhost:8080/"
        },
        "outputId": "fc7687fb-6dd5-4ccf-9759-633910a5068b"
      },
      "outputs": [
        {
          "output_type": "stream",
          "name": "stdout",
          "text": [
            "Média de todos os elementos: 3.5\n"
          ]
        }
      ],
      "source": [
        "# Média de todos os elementos do tensor\n",
        "mean_all = torch.mean(tensor)\n",
        "print(\"Média de todos os elementos:\", mean_all.item())"
      ]
    },
    {
      "cell_type": "code",
      "execution_count": 39,
      "metadata": {
        "id": "8rfZ1xF1zoMs",
        "colab": {
          "base_uri": "https://localhost:8080/"
        },
        "outputId": "1417002d-9227-4839-c03d-b1ae704a7a6f"
      },
      "outputs": [
        {
          "output_type": "stream",
          "name": "stdout",
          "text": [
            "Média ao longo do eixo 0 (linhas): tensor([2.5000, 3.5000, 4.5000])\n",
            "torch.Size([3])\n"
          ]
        }
      ],
      "source": [
        "# Média ao longo do eixo 0 (linhas)\n",
        "mean_dim0 = torch.mean(tensor, dim=0)\n",
        "print(\"Média ao longo do eixo 0 (linhas):\", mean_dim0)\n",
        "print(mean_dim0.shape)"
      ]
    },
    {
      "cell_type": "code",
      "execution_count": 40,
      "metadata": {
        "id": "0Z4034OdzoMs",
        "colab": {
          "base_uri": "https://localhost:8080/"
        },
        "outputId": "04527e01-841d-40a0-8acd-973914f161c1"
      },
      "outputs": [
        {
          "output_type": "stream",
          "name": "stdout",
          "text": [
            "Média ao longo do eixo 1 (colunas): tensor([2., 5.])\n",
            "torch.Size([2])\n"
          ]
        }
      ],
      "source": [
        "# Média ao longo do eixo 1 (colunas)\n",
        "mean_dim1 = torch.mean(tensor, dim=1)\n",
        "print(\"Média ao longo do eixo 1 (colunas):\", mean_dim1)\n",
        "print(mean_dim1.shape)"
      ]
    },
    {
      "cell_type": "markdown",
      "metadata": {
        "id": "B5C4cblvzoMs"
      },
      "source": [
        "### Valor Mínimo e Máximo\n",
        "\n",
        "Podemos encontrar o valor mínimo e máximo de um tensor usando `torch.min` e `torch.max`:"
      ]
    },
    {
      "cell_type": "code",
      "execution_count": 41,
      "metadata": {
        "id": "tbMCPy1tzoMs",
        "colab": {
          "base_uri": "https://localhost:8080/"
        },
        "outputId": "cd3ced94-2536-4dd5-fac8-72d9c1e1eb2a"
      },
      "outputs": [
        {
          "output_type": "stream",
          "name": "stdout",
          "text": [
            "Valor mínimo de todos os elementos: tensor(1.)\n",
            "\n",
            "Valor máximo de todos os elementos: tensor(6.)\n",
            "\n",
            "Valor mínimo ao longo do eixo 0 (linhas): tensor([1., 2., 3.])\n",
            "Índices dos valores mínimos ao longo do eixo 0 (linhas): tensor([0, 0, 0])\n",
            "\n",
            "Valor máximo ao longo do eixo 1 (colunas): tensor([3., 6.])\n",
            "Índices dos valores máximos ao longo do eixo 1 (colunas): tensor([2, 2])\n"
          ]
        }
      ],
      "source": [
        "# Valor mínimo de todos os elementos do tensor\n",
        "min_all = torch.min(tensor)\n",
        "print(\"Valor mínimo de todos os elementos:\", min_all)\n",
        "print()\n",
        "\n",
        "# Valor máximo de todos os elementos do tensor\n",
        "max_all = torch.max(tensor)\n",
        "print(\"Valor máximo de todos os elementos:\", max_all)\n",
        "print()\n",
        "\n",
        "# Valor mínimo ao longo do eixo 0 (linhas)\n",
        "min_dim0, min_indices_dim0 = torch.min(tensor, dim=0)\n",
        "print(\"Valor mínimo ao longo do eixo 0 (linhas):\", min_dim0)\n",
        "print(\"Índices dos valores mínimos ao longo do eixo 0 (linhas):\", min_indices_dim0)\n",
        "print()\n",
        "\n",
        "# Valor máximo ao longo do eixo 1 (colunas)\n",
        "max_dim1, max_indices_dim1 = torch.max(tensor, dim=1)\n",
        "print(\"Valor máximo ao longo do eixo 1 (colunas):\", max_dim1)\n",
        "print(\"Índices dos valores máximos ao longo do eixo 1 (colunas):\", max_indices_dim1)"
      ]
    },
    {
      "cell_type": "markdown",
      "metadata": {
        "id": "tZy6UQGOzoMs"
      },
      "source": [
        "### Produto dos Elementos\n",
        "\n",
        "A função `torch.prod` calcula o produto de todos os elementos do tensor:"
      ]
    },
    {
      "cell_type": "code",
      "execution_count": 42,
      "metadata": {
        "id": "7D3XzxpczoMt",
        "colab": {
          "base_uri": "https://localhost:8080/"
        },
        "outputId": "16eeedb6-3e54-43a7-c85e-5c4615fa13ce"
      },
      "outputs": [
        {
          "output_type": "stream",
          "name": "stdout",
          "text": [
            "Produto de todos os elementos: tensor(720.)\n",
            "\n",
            "Produto ao longo do eixo 0 (linhas): tensor([ 4., 10., 18.])\n",
            "\n",
            "Produto ao longo do eixo 1 (colunas): tensor([  6., 120.])\n"
          ]
        }
      ],
      "source": [
        "# Produto de todos os elementos do tensor\n",
        "prod_all = torch.prod(tensor)\n",
        "print(\"Produto de todos os elementos:\", prod_all)\n",
        "print()\n",
        "\n",
        "# Produto ao longo do eixo 0 (linhas)\n",
        "prod_dim0 = torch.prod(tensor, dim=0)\n",
        "print(\"Produto ao longo do eixo 0 (linhas):\", prod_dim0)\n",
        "print()\n",
        "\n",
        "# Produto ao longo do eixo 1 (colunas)\n",
        "prod_dim1 = torch.prod(tensor, dim=1)\n",
        "print(\"Produto ao longo do eixo 1 (colunas):\", prod_dim1)"
      ]
    },
    {
      "cell_type": "markdown",
      "metadata": {
        "id": "T9A-DrwazoMt"
      },
      "source": [
        "## Propriedade requires_grad\n",
        "A propriedade `requires_grad` em PyTorch é fundamental para a construção e treinamento de redes neurais, pois permite calcular automaticamente os gradientes das operações. Quando `requires_grad` é definido como `True` em um tensor, todas as operações feitas nesse tensor serão rastreadas para a diferenciação automática.\n",
        "\n",
        "### Autograd e Grafos Computacionais\n",
        "\n",
        "Autograd é um componente essencial em frameworks de deep learning como PyTorch, que permite a diferenciação automática de tensores. Este mecanismo é fundamental para a otimização dos modelos de aprendizado de máquina, pois permite calcular gradientes de forma eficiente, necessária para o ajuste dos parâmetros do modelo durante o treinamento.\n",
        "\n",
        "#### Grafos Computacionais\n",
        "\n",
        "Para entender o funcionamento do autograd, é importante compreender os grafos computacionais. Um grafo computacional é uma representação gráfica de uma sequência de operações matemáticas, onde:\n",
        "\n",
        "- **Nós (nodes)** representam operações matemáticas ou variáveis.\n",
        "- **Arestas (edges)** representam os fluxos de dados (tensores) entre as operações.\n",
        "\n",
        "![alt text](https://miro.medium.com/max/908/1*ahiviCqq6B0R_XWBmgvHkA.png \"Grafo Computacional\")\n",
        "\n",
        "Durante a construção de um modelo, as operações realizadas nos tensores criam um grafo computacional dinâmico, também conhecido como *Dynamic Computation Graph*. Esse grafo é dinâmico porque é construído à medida que as operações são executadas, permitindo flexibilidade e facilidade na criação e modificação de modelos.\n",
        "\n",
        "#### Propagação para Frente (Forward Pass)\n",
        "\n",
        "Durante a propagação para frente (forward pass), os tensores são passados através das operações definidas no grafo computacional, produzindo uma saída. Este processo é usado para calcular a perda (loss) do modelo.\n",
        "\n",
        "#### Propagação para Trás (Backward Pass)\n",
        "\n",
        "A propagação para trás (backward pass) é o processo de calcular os gradientes dos tensores em relação à perda, utilizando a regra da cadeia. O autograd facilita essa tarefa, realizando automaticamente a diferenciação reversa ao longo do grafo computacional. Os passos são:\n",
        "\n",
        "1. **Calcula a perda**: A partir das saídas do forward pass.\n",
        "2. **Calcula os gradientes**: Utilizando a diferenciação automática.\n",
        "3. **Atualiza os parâmetros**: Os gradientes calculados são usados para ajustar os parâmetros do modelo através de otimização, como o gradiente descendente."
      ]
    },
    {
      "cell_type": "markdown",
      "metadata": {
        "id": "UYbyWcs0zoMt"
      },
      "source": [
        "### Criando Tensores com `requires_grad`\n",
        "\n",
        "Vamos criar tensores com a propriedade `requires_grad` definida como `True`:"
      ]
    },
    {
      "cell_type": "code",
      "execution_count": 43,
      "metadata": {
        "id": "AIH7-CbdzoMt",
        "colab": {
          "base_uri": "https://localhost:8080/"
        },
        "outputId": "4313beb4-4a16-494b-8694-81dec0d3463b"
      },
      "outputs": [
        {
          "output_type": "stream",
          "name": "stdout",
          "text": [
            "tensor([1., 2., 3.], requires_grad=True)\n"
          ]
        }
      ],
      "source": [
        "# Tensor com requires_grad\n",
        "x = torch.tensor([1.0, 2.0, 3.0], requires_grad=True)\n",
        "print(x)"
      ]
    },
    {
      "cell_type": "markdown",
      "metadata": {
        "id": "tHVpKjFYzoMv"
      },
      "source": [
        "### Realizando Operações com Tensores que Têm `requires_grad`\n",
        "\n",
        "Quando realizamos operações com tensores que têm `requires_grad=True`, o PyTorch cria uma tape (fita) para rastrear todas as operações. Vamos ver um exemplo:"
      ]
    },
    {
      "cell_type": "code",
      "execution_count": 44,
      "metadata": {
        "id": "TuJHZUSSzoMv",
        "colab": {
          "base_uri": "https://localhost:8080/"
        },
        "outputId": "179ae84f-763e-4ba9-a5d5-d03d244f9d12"
      },
      "outputs": [
        {
          "output_type": "stream",
          "name": "stdout",
          "text": [
            "tensor(14., grad_fn=<SumBackward0>)\n"
          ]
        }
      ],
      "source": [
        "# Realiza uma operação com o tensor x\n",
        "y = x ** 2\n",
        "\n",
        "# Mais uma operação\n",
        "z = y.sum()\n",
        "\n",
        "print(z)"
      ]
    },
    {
      "cell_type": "markdown",
      "metadata": {
        "id": "u-2crsF1zoMw"
      },
      "source": [
        "### Calculando Gradientes\n",
        "\n",
        "Para calcular os gradientes, usamos o método `backward()`. Isso calcula o gradiente da função de perda em relação a todos os tensores que têm `requires_grad=True`.\n",
        "\n",
        "Os gradientes armazenados em `x.grad` representam a derivada da soma `z` em relação a `x`. Como `z` é a soma dos elementos de `y` e `y = x ** 2`, a derivada de `z` em relação a `x` é `2 * x`."
      ]
    },
    {
      "cell_type": "code",
      "execution_count": 45,
      "metadata": {
        "id": "TocoyKYgzoMw",
        "colab": {
          "base_uri": "https://localhost:8080/"
        },
        "outputId": "20c84f39-de02-4e97-fbe5-482abf9f80ae"
      },
      "outputs": [
        {
          "output_type": "stream",
          "name": "stdout",
          "text": [
            "tensor([2., 4., 6.])\n"
          ]
        }
      ],
      "source": [
        "# Calcula os gradientes\n",
        "z.backward()\n",
        "\n",
        "# z = x1² + x2² + x3²\n",
        "# dz/x1 = 2x1\n",
        "\n",
        "# Imprime os gradientes armazenados em x.grad\n",
        "print(x.grad)"
      ]
    },
    {
      "cell_type": "markdown",
      "metadata": {
        "id": "Gkyj5zOczoMw"
      },
      "source": [
        "### Desativando o Rastreamento de Gradientes\n",
        "\n",
        "Em algumas situações, não queremos rastrear as operações, como durante a inferência do modelo. Podemos desativar temporariamente o rastreamento de gradientes usando `torch.no_grad()` ou `detach()`. Vamos ver como:"
      ]
    },
    {
      "cell_type": "code",
      "execution_count": 46,
      "metadata": {
        "id": "HiL--rsDzoMw",
        "colab": {
          "base_uri": "https://localhost:8080/"
        },
        "outputId": "566264b3-f12a-48fa-9a67-8e07c6dae478"
      },
      "outputs": [
        {
          "output_type": "stream",
          "name": "stdout",
          "text": [
            "False\n",
            "False\n"
          ]
        }
      ],
      "source": [
        "# Desativando o rastreamento de gradientes temporariamente\n",
        "with torch.no_grad():\n",
        "    y = x * 2\n",
        "    print(y.requires_grad)  # False, pois o rastreamento está desativado\n",
        "\n",
        "# Criando um novo tensor sem rastreamento de gradientes\n",
        "x_detached = x.detach()\n",
        "print(x_detached.requires_grad)  # False, pois o tensor foi separado da tape de computação"
      ]
    },
    {
      "cell_type": "markdown",
      "metadata": {
        "id": "njd39f12zoMw"
      },
      "source": [
        "### Verificando se um Tensor Requer Gradiente\n",
        "\n",
        "Podemos verificar se um tensor requer gradiente usando a propriedade `requires_grad`:"
      ]
    },
    {
      "cell_type": "code",
      "execution_count": 47,
      "metadata": {
        "id": "lrJwX533zoMx",
        "colab": {
          "base_uri": "https://localhost:8080/"
        },
        "outputId": "a578a8a8-55a1-4cc9-e83d-21f7d8edf81a"
      },
      "outputs": [
        {
          "output_type": "stream",
          "name": "stdout",
          "text": [
            "True\n",
            "False\n"
          ]
        }
      ],
      "source": [
        "print(x.requires_grad)  # True, pois x foi criado com requires_grad=True\n",
        "print(x_detached.requires_grad)  # False, pois x_detached foi separado da tape de computação"
      ]
    },
    {
      "cell_type": "markdown",
      "metadata": {
        "id": "VcmBQH0hzoMx"
      },
      "source": [
        "## Exercícios - PyTorch Básico"
      ]
    },
    {
      "cell_type": "markdown",
      "metadata": {
        "id": "L-2Y71qdzoMx"
      },
      "source": [
        "### Exercício 1: Criação de Tensores\n",
        "\n",
        "1. Crie um tensor 1D com os valores de 1 a 10.\n",
        "2. Crie um tensor 2D de forma (3, 3) com valores aleatórios.\n",
        "3. Crie um tensor 3D de forma (2, 3, 4) com todos os valores iguais a 1.\n",
        "4. Crie um tensor de zeros com as mesmas dimensões do tensor 2D criado no exercício 2.\n",
        "5. Crie um tensor de uns com as mesmas dimensões do tensor 3D criado no exercício 3."
      ]
    },
    {
      "cell_type": "code",
      "execution_count": 48,
      "metadata": {
        "id": "e2eLoDWQzoMx",
        "colab": {
          "base_uri": "https://localhost:8080/"
        },
        "outputId": "dc32f586-1c22-4c10-dd58-fc00741ef663"
      },
      "outputs": [
        {
          "output_type": "stream",
          "name": "stdout",
          "text": [
            "Tensor 1D: tensor([ 1,  2,  3,  4,  5,  6,  7,  8,  9, 10])\n",
            "\n",
            "Tensor 2D aleatório (3x3):\n",
            "tensor([[0.8940, 0.8384, 0.1782],\n",
            "        [0.7508, 0.7734, 0.1608],\n",
            "        [0.8922, 0.2266, 0.8206]])\n",
            "\n",
            "Tensor 3D de uns (2x3x4):\n",
            "tensor([[[1., 1., 1., 1.],\n",
            "         [1., 1., 1., 1.],\n",
            "         [1., 1., 1., 1.]],\n",
            "\n",
            "        [[1., 1., 1., 1.],\n",
            "         [1., 1., 1., 1.],\n",
            "         [1., 1., 1., 1.]]])\n",
            "\n",
            "Tensor de zeros com as dimensões 2D de forma (3, 3) :\n",
            "tensor([[0., 0., 0.],\n",
            "        [0., 0., 0.],\n",
            "        [0., 0., 0.]])\n",
            "\n",
            "Tensor de uns com a mesma forma que o tensor 3D:\n",
            "tensor([[[1., 1., 1., 1.],\n",
            "         [1., 1., 1., 1.],\n",
            "         [1., 1., 1., 1.]],\n",
            "\n",
            "        [[1., 1., 1., 1.],\n",
            "         [1., 1., 1., 1.],\n",
            "         [1., 1., 1., 1.]]])\n"
          ]
        }
      ],
      "source": [
        "# 1.Tensor 1D com os valores de 1 a 10\n",
        "tensor_1d = torch.arange(1, 11)\n",
        "print(\"Tensor 1D:\", tensor_1d)\n",
        "# 2. Tensor 2D de forma (3, 3) com valores aleatórios\n",
        "tensor_2d_random = torch.rand(3, 3)\n",
        "print(\"\\nTensor 2D aleatório (3x3):\")\n",
        "print(tensor_2d_random)\n",
        "# 3. Tensor 3D de forma (2, 3, 4) com todos os valores iguais a 1\n",
        "tensor_3d_ones = torch.ones(2, 3, 4)\n",
        "print(\"\\nTensor 3D de uns (2x3x4):\")\n",
        "print(tensor_3d_ones)\n",
        "# 4. Tensor de zeros com as dimensões 2D de forma (3, 3)\n",
        "tensor_zeros = torch.zeros_like(tensor_2d_random)\n",
        "print(\"\\nTensor de zeros com as dimensões 2D de forma (3, 3) :\")\n",
        "print(tensor_zeros)\n",
        "# 5. Tensor de uns com as dimensões do Tensor 3D de forma (2, 3, 4)\n",
        "tensor_ones_like_3d = torch.ones_like(tensor_3d_ones)\n",
        "print(\"\\nTensor de uns com a mesma forma que o tensor 3D:\")\n",
        "print(tensor_ones_like_3d)\n"
      ]
    },
    {
      "cell_type": "markdown",
      "metadata": {
        "id": "l4MFo8MwzoMx"
      },
      "source": [
        "### Exercício 2: Manipulação de Tensores\n",
        "\n",
        "1. Dado o tensor `a = torch.tensor([[1, 2], [3, 4], [5, 6]])`, obtenha a primeira coluna.\n",
        "2. Dado o tensor `b = torch.tensor([[[1, 2, 3], [4, 5, 6]], [[7, 8, 9], [10, 11, 12]]])`, obtenha o subtensor `[[7, 8, 9], [10, 11, 12]]`.\n",
        "3. Dado o tensor `c = torch.tensor([1, 2, 3, 4, 5, 6])`, mude sua forma para (2, 3).\n",
        "4. Dado o tensor `d = torch.tensor([1, 2, 3, 4, 5, 6])`, adicione uma dimensão extra para que ele se torne de forma (1, 6)."
      ]
    },
    {
      "cell_type": "code",
      "source": [
        "\n",
        "# 1. Primeira coluna do tensor 'a'\n",
        "a = torch.tensor([[1, 2], [3, 4], [5, 6]])\n",
        "primeira_coluna = a[:, 0]\n",
        "print(\"Primeira coluna de 'a':\", primeira_coluna)\n",
        "\n",
        "# 2. Obter o subtensor [[7, 8, 9], [10, 11, 12]] de 'b'\n",
        "b = torch.tensor([[[1, 2, 3], [4, 5, 6]], [[7, 8, 9], [10, 11, 12]]])\n",
        "subtensor_b = b[1]  # O subtensor está na segunda dimensão do tensor\n",
        "print(\"\\nSubtensor de 'b':\", subtensor_b)\n",
        "\n",
        "# 3. Mudar a forma do tensor 'c' para (2, 3)\n",
        "c = torch.tensor([1, 2, 3, 4, 5, 6])\n",
        "c_reshaped = c.reshape(2, 3)\n",
        "print(\"\\nTensor 'c' com forma (2, 3):\", c_reshaped)\n",
        "\n",
        "# 4. Adicionar uma dimensão extra ao tensor 'd' para que tenha a forma (1, 6)\n",
        "d = torch.tensor([1, 2, 3, 4, 5, 6])\n",
        "d_expanded = d.unsqueeze(0)  # Adiciona uma dimensão extra no índice 0\n",
        "print(\"\\nTensor 'd' com forma (1, 6):\", d_expanded)"
      ],
      "metadata": {
        "colab": {
          "base_uri": "https://localhost:8080/"
        },
        "id": "wOgJUG4HAUXe",
        "outputId": "5a91a8be-d32c-40fa-96b1-a6f76cac7a3c"
      },
      "execution_count": 49,
      "outputs": [
        {
          "output_type": "stream",
          "name": "stdout",
          "text": [
            "Primeira coluna de 'a': tensor([1, 3, 5])\n",
            "\n",
            "Subtensor de 'b': tensor([[ 7,  8,  9],\n",
            "        [10, 11, 12]])\n",
            "\n",
            "Tensor 'c' com forma (2, 3): tensor([[1, 2, 3],\n",
            "        [4, 5, 6]])\n",
            "\n",
            "Tensor 'd' com forma (1, 6): tensor([[1, 2, 3, 4, 5, 6]])\n"
          ]
        }
      ]
    },
    {
      "cell_type": "markdown",
      "metadata": {
        "id": "VMQLZ-FQzoMx"
      },
      "source": [
        "### Exercício 3: Funções de Criação de Tensores\n",
        "\n",
        "1. Crie um tensor contendo valores de 0 a 1, espaçados igualmente em 5 passos.\n",
        "2. Crie um tensor contendo valores de 0 a 10, com um passo de 2.\n",
        "3. Crie um tensor de forma (3, 3) com valores aleatórios entre 0 e 10.\n",
        "4. Crie um tensor correspondente a uma imagem em escala de cinza de dimensões 128x128 com valores aleatórios entre 0 e 255.\n",
        "5. Crie um tensor correspondente a uma imagem em RGB de dimensões 128x128 com valores aleatórios entre 0 e 255."
      ]
    },
    {
      "cell_type": "code",
      "execution_count": 50,
      "metadata": {
        "id": "0PHqPwpwzoMx",
        "colab": {
          "base_uri": "https://localhost:8080/"
        },
        "outputId": "298c1993-8bf8-4f24-bad5-0df8ec2d8689"
      },
      "outputs": [
        {
          "output_type": "stream",
          "name": "stdout",
          "text": [
            "Tensor de 0 a 1, espaçados igualmente em 5 passos: tensor([0.0000, 0.2500, 0.5000, 0.7500, 1.0000])\n"
          ]
        }
      ],
      "source": [
        "# 1. Criar um tensor contendo valores de 0 a 1, espaçados igualmente em 5 passos\n",
        "tensor_0_1_5_steps = torch.linspace(0, 1, 5)\n",
        "print(\"Tensor de 0 a 1, espaçados igualmente em 5 passos:\", tensor_0_1_5_steps)\n"
      ]
    },
    {
      "cell_type": "code",
      "source": [
        "# 2. Tensor contendo valores de 0 a 10, com um passo de 2\n",
        "tensor_0_10_step_2 = torch.arange(0, 11, 2)\n",
        "print(\"\\nTensor de 0 a 10, com um passo de 2:\", tensor_0_10_step_2)\n"
      ],
      "metadata": {
        "colab": {
          "base_uri": "https://localhost:8080/"
        },
        "id": "1qzbSkJ6Ev74",
        "outputId": "8f5b15ff-c5e5-4aff-b086-7aa68530c422"
      },
      "execution_count": 51,
      "outputs": [
        {
          "output_type": "stream",
          "name": "stdout",
          "text": [
            "\n",
            "Tensor de 0 a 10, com um passo de 2: tensor([ 0,  2,  4,  6,  8, 10])\n"
          ]
        }
      ]
    },
    {
      "cell_type": "code",
      "source": [
        "# 3. Tensor de forma (3, 3) com valores aleatórios entre 0 e 10\n",
        "tensor_random_3x3 = torch.randint(0, 11, (3, 3))\n",
        "print(\"\\nTensor 3x3 com valores aleatórios entre 0 e 10:\", tensor_random_3x3)"
      ],
      "metadata": {
        "colab": {
          "base_uri": "https://localhost:8080/"
        },
        "id": "NgxCEoiOE87C",
        "outputId": "ecfde9f0-3799-4d77-aea3-a471ccaf8a0a"
      },
      "execution_count": 52,
      "outputs": [
        {
          "output_type": "stream",
          "name": "stdout",
          "text": [
            "\n",
            "Tensor 3x3 com valores aleatórios entre 0 e 10: tensor([[ 0,  7, 10],\n",
            "        [ 0,  4,  2],\n",
            "        [10,  9,  0]])\n"
          ]
        }
      ]
    },
    {
      "cell_type": "code",
      "source": [
        "# 4. Criar um tensor correspondente a uma imagem em escala de cinza de dimensões 128x128 com valores aleatórios entre 0 e 255\n",
        "tensor_gray_image = torch.randint(0, 256, (128, 128))\n",
        "print(\"\\nTensor de imagem em escala de cinza (128x128):\")\n",
        "print(tensor_gray_image)"
      ],
      "metadata": {
        "colab": {
          "base_uri": "https://localhost:8080/"
        },
        "id": "ADo0A0nHFg5O",
        "outputId": "913ca0e9-78ec-44e0-d999-d14b0df0a205"
      },
      "execution_count": 53,
      "outputs": [
        {
          "output_type": "stream",
          "name": "stdout",
          "text": [
            "\n",
            "Tensor de imagem em escala de cinza (128x128):\n",
            "tensor([[182, 145,  96,  ..., 102,  90,  27],\n",
            "        [ 52, 197, 102,  ..., 192,  49, 122],\n",
            "        [234,   3, 248,  ..., 195, 137, 136],\n",
            "        ...,\n",
            "        [149, 165,  77,  ...,  73,  17, 198],\n",
            "        [242, 142,  49,  ...,  86,  49, 161],\n",
            "        [221, 109, 193,  ...,  69,  37, 109]])\n"
          ]
        }
      ]
    },
    {
      "cell_type": "code",
      "source": [
        "# 5. Criar um tensor correspondente a uma imagem em RGB de dimensões 128x128 com valores aleatórios entre 0 e 255\n",
        "tensor_rgb_image = torch.randint(0, 256, (128, 128, 3))\n",
        "print(\"\\nTensor de imagem RGB (128x128):\")\n",
        "print(tensor_rgb_image)"
      ],
      "metadata": {
        "colab": {
          "base_uri": "https://localhost:8080/"
        },
        "id": "n-MensoeFw_I",
        "outputId": "955941b4-55d6-4512-aead-74651fe1ef43"
      },
      "execution_count": 54,
      "outputs": [
        {
          "output_type": "stream",
          "name": "stdout",
          "text": [
            "\n",
            "Tensor de imagem RGB (128x128):\n",
            "tensor([[[120, 179, 128],\n",
            "         [233,   0,  66],\n",
            "         [132, 232, 230],\n",
            "         ...,\n",
            "         [232, 216,   6],\n",
            "         [207, 255, 200],\n",
            "         [219,  41, 253]],\n",
            "\n",
            "        [[ 55, 159,   1],\n",
            "         [243,   7, 127],\n",
            "         [212, 242, 237],\n",
            "         ...,\n",
            "         [204, 186, 155],\n",
            "         [156, 151, 100],\n",
            "         [ 10, 155, 191]],\n",
            "\n",
            "        [[ 21,  23,  83],\n",
            "         [ 91,  69, 215],\n",
            "         [ 96, 193, 183],\n",
            "         ...,\n",
            "         [102,  89, 254],\n",
            "         [ 40,  49,  89],\n",
            "         [147,  37, 203]],\n",
            "\n",
            "        ...,\n",
            "\n",
            "        [[ 43, 230, 214],\n",
            "         [217, 114,  54],\n",
            "         [202, 165, 121],\n",
            "         ...,\n",
            "         [201, 214, 102],\n",
            "         [ 95,  42, 102],\n",
            "         [ 53, 163,  86]],\n",
            "\n",
            "        [[144, 157, 159],\n",
            "         [ 93, 118, 127],\n",
            "         [253,  81, 158],\n",
            "         ...,\n",
            "         [167,   8,  38],\n",
            "         [143,  79, 237],\n",
            "         [ 19,  98, 122]],\n",
            "\n",
            "        [[212,  12,  76],\n",
            "         [107,  42, 252],\n",
            "         [ 15,   4,  65],\n",
            "         ...,\n",
            "         [158, 252, 195],\n",
            "         [209,  68, 208],\n",
            "         [ 13, 186, 228]]])\n"
          ]
        }
      ]
    },
    {
      "cell_type": "markdown",
      "metadata": {
        "id": "-0R8iDYNzoMx"
      },
      "source": [
        "### Exercício 4: Operações Avançadas com Tensores\n",
        "\n",
        "1. Dado o tensor `a = torch.tensor([1, 2, 3])` e `b = torch.tensor([[4], [5], [6]])`, calcule a soma de `a` e `b` usando broadcasting.\n",
        "2. Dado o tensor `a = torch.tensor([1.0, 2.0, 3.0, 4.0])`, calcule a soma de todos os elementos.\n",
        "3. Dado o tensor `a = torch.tensor([1.0, 2.0, 3.0, 4.0])`, calcule a média de todos os elementos.\n",
        "4. Dado o tensor `a = torch.tensor([1.0, 2.0, 3.0, 4.0])`, calcule a raiz quadrada de todos os elementos."
      ]
    },
    {
      "cell_type": "code",
      "execution_count": 55,
      "metadata": {
        "id": "cGfGonGkzoMy",
        "colab": {
          "base_uri": "https://localhost:8080/"
        },
        "outputId": "99969cb7-49c8-4327-a462-6132b1180e6c"
      },
      "outputs": [
        {
          "output_type": "stream",
          "name": "stdout",
          "text": [
            "Soma de 'a' e 'b' usando broadcasting: tensor([[5, 6, 7],\n",
            "        [6, 7, 8],\n",
            "        [7, 8, 9]])\n"
          ]
        }
      ],
      "source": [
        "# 1. Soma de 'a' e 'b' usando broadcasting\n",
        "a = torch.tensor([1, 2, 3])\n",
        "b = torch.tensor([[4], [5], [6]])\n",
        "soma_ab = a + b  # Broadcasting ocorre aqui, 'a' será expandido para (3, 3)\n",
        "print(\"Soma de 'a' e 'b' usando broadcasting:\", soma_ab)\n"
      ]
    },
    {
      "cell_type": "code",
      "source": [
        "# 2. Soma de todos os elementos de 'a'\n",
        "a_float = torch.tensor([1.0, 2.0, 3.0, 4.0])\n",
        "soma_total = torch.sum(a_float)\n",
        "print(\"\\nSoma de todos os elementos de 'a':\", soma_total)"
      ],
      "metadata": {
        "colab": {
          "base_uri": "https://localhost:8080/"
        },
        "id": "ILfBY9IeICdd",
        "outputId": "d7f2a35e-0697-4855-fcf4-16cf5109cd8a"
      },
      "execution_count": 56,
      "outputs": [
        {
          "output_type": "stream",
          "name": "stdout",
          "text": [
            "\n",
            "Soma de todos os elementos de 'a': tensor(10.)\n"
          ]
        }
      ]
    },
    {
      "cell_type": "code",
      "source": [
        "# 3. Média de todos os elementos de 'a'\n",
        "media_total = torch.mean(a_float)\n",
        "print(\"\\nMédia de todos os elementos de 'a':\", media_total)"
      ],
      "metadata": {
        "colab": {
          "base_uri": "https://localhost:8080/"
        },
        "id": "vIhOjj5BIG4y",
        "outputId": "dc259b5c-6bfa-4f68-dc8c-96b27196d43f"
      },
      "execution_count": 57,
      "outputs": [
        {
          "output_type": "stream",
          "name": "stdout",
          "text": [
            "\n",
            "Média de todos os elementos de 'a': tensor(2.5000)\n"
          ]
        }
      ]
    },
    {
      "cell_type": "code",
      "source": [
        "# 4. Raiz quadrada de todos os elementos de 'a'\n",
        "raiz_quadrada = torch.sqrt(a_float)\n",
        "print(\"\\nRaiz quadrada de todos os elementos de 'a':\", raiz_quadrada)"
      ],
      "metadata": {
        "colab": {
          "base_uri": "https://localhost:8080/"
        },
        "id": "A3rQSv5OILrF",
        "outputId": "5bf2f4c8-0bea-4425-e6f9-321a24fd27b0"
      },
      "execution_count": 58,
      "outputs": [
        {
          "output_type": "stream",
          "name": "stdout",
          "text": [
            "\n",
            "Raiz quadrada de todos os elementos de 'a': tensor([1.0000, 1.4142, 1.7321, 2.0000])\n"
          ]
        }
      ]
    },
    {
      "cell_type": "markdown",
      "metadata": {
        "id": "-rB12Ks9zoMy"
      },
      "source": [
        "### Exercício 5: Autograd e Backpropagation\n",
        "\n",
        "1. Crie um tensor `x` com os valores `[2.0, 3.0]` e `requires_grad=True`. Calcule `y = x^2` e os gradientes.\n",
        "2. Crie um tensor `x` com o valor `3.0` e `requires_grad=True`. Calcule `y = 2*x + 1` e o gradiente.\n",
        "3. Crie um tensor `x` com os valores `[1.0, 2.0, 3.0]` e `requires_grad=True`. Calcule `y = x^3` e os gradientes."
      ]
    },
    {
      "cell_type": "code",
      "execution_count": 59,
      "metadata": {
        "id": "cya80p_PzoMy",
        "colab": {
          "base_uri": "https://localhost:8080/"
        },
        "outputId": "e06c6dfc-197e-4b24-a89a-3df9207c2567"
      },
      "outputs": [
        {
          "output_type": "stream",
          "name": "stdout",
          "text": [
            "Gradientes de y = x^2 com x = [2.0, 3.0]: tensor([4., 6.])\n"
          ]
        }
      ],
      "source": [
        "# 1. Tensor 'x' com os valores [2.0, 3.0] e requires_grad=True\n",
        "x1 = torch.tensor([2.0, 3.0], requires_grad=True)\n",
        "y1 = x1**2  # y = x^2\n",
        "y1.backward(torch.ones_like(x1))  # Calcula os gradientes de y1 com relação a x1\n",
        "\n",
        "print(\"Gradientes de y = x^2 com x = [2.0, 3.0]:\", x1.grad)\n"
      ]
    },
    {
      "cell_type": "code",
      "source": [
        "# 2. Tensor 'x' com o valor 3.0 e requires_grad=True\n",
        "x2 = torch.tensor(3.0, requires_grad=True)\n",
        "y2 = 2*x2 + 1  # y = 2*x + 1\n",
        "y2.backward()  # Calcula o gradiente de y2 com relação a x2\n",
        "\n",
        "print(\"\\nGradiente de y = 2*x + 1 com x = 3.0:\", x2.grad)"
      ],
      "metadata": {
        "colab": {
          "base_uri": "https://localhost:8080/"
        },
        "id": "M_qGG-cDKhtB",
        "outputId": "c0c77dff-dd41-4fb8-9057-df58a11b35fb"
      },
      "execution_count": 60,
      "outputs": [
        {
          "output_type": "stream",
          "name": "stdout",
          "text": [
            "\n",
            "Gradiente de y = 2*x + 1 com x = 3.0: tensor(2.)\n"
          ]
        }
      ]
    },
    {
      "cell_type": "code",
      "source": [
        "# 3. Tensor 'x' com os valores [1.0, 2.0, 3.0] e requires_grad=True\n",
        "x3 = torch.tensor([1.0, 2.0, 3.0], requires_grad=True)\n",
        "y3 = x3**3  # y = x^3\n",
        "y3.backward(torch.ones_like(x3))  # Calcula os gradientes de y3 com relação a x3\n",
        "\n",
        "print(\"\\nGradientes de y = x^3 com x = [1.0, 2.0, 3.0]:\", x3.grad)"
      ],
      "metadata": {
        "colab": {
          "base_uri": "https://localhost:8080/"
        },
        "id": "wWwU9DtTKnmr",
        "outputId": "ea5b58a8-9a0e-41b7-cd61-ebc0accc9528"
      },
      "execution_count": 61,
      "outputs": [
        {
          "output_type": "stream",
          "name": "stdout",
          "text": [
            "\n",
            "Gradientes de y = x^3 com x = [1.0, 2.0, 3.0]: tensor([ 3., 12., 27.])\n"
          ]
        }
      ]
    },
    {
      "cell_type": "markdown",
      "metadata": {
        "id": "MX6K7HvOzoMy"
      },
      "source": [
        "### Exercício 6: Operações de Redução\n",
        "\n",
        "1. Crie um tensor de forma (4, 5) contendo valores de 1 a 20 usando `torch.arange`. Em seguida, calcule a soma de todos os elementos do tensor.\n",
        "\n",
        "2. Crie um tensor de forma (3, 4) com valores aleatórios entre 0 e 1 usando `torch.rand`. Calcule a média dos elementos ao longo do eixo 1 (colunas).\n",
        "\n",
        "3. Crie um tensor de forma (5, 5) contendo valores espaçados igualmente de 0 a 24 usando `torch.linspace`. Encontre o valor mínimo e o máximo de todos os elementos do tensor.\n",
        "\n",
        "4. Crie um tensor de forma (3, 6) com valores inteiros aleatórios entre 10 e 50 usando `torch.randint`. Calcule o produto dos elementos ao longo do eixo 0 (linhas).\n",
        "\n",
        "5. Crie um tensor de forma (2, 3, 4) com valores aleatórios entre 0 e 1 usando `torch.rand`. Encontre a soma dos elementos ao longo do eixo 2."
      ]
    },
    {
      "cell_type": "code",
      "execution_count": 62,
      "metadata": {
        "id": "ANBpEU1VzoMy",
        "colab": {
          "base_uri": "https://localhost:8080/"
        },
        "outputId": "5af41f34-5296-407d-e045-4bde64ba967d"
      },
      "outputs": [
        {
          "output_type": "stream",
          "name": "stdout",
          "text": [
            "tensor([[ 1,  2,  3,  4,  5],\n",
            "        [ 6,  7,  8,  9, 10],\n",
            "        [11, 12, 13, 14, 15],\n",
            "        [16, 17, 18, 19, 20]])\n",
            "Soma de todos os elementos do tensor 1: tensor(210)\n"
          ]
        }
      ],
      "source": [
        "# primeira Questão\n",
        "# Criando o tensor de forma (4, 5) com valores de 1 a 20 usando torch.arange\n",
        "tensor1 = torch.arange(1, 21).reshape(4, 5)\n",
        "print(tensor1)\n",
        "\n",
        "# Calculando a soma de todos os elementos\n",
        "soma1 = tensor1.sum()\n",
        "print(\"Soma de todos os elementos do tensor 1:\", soma1)"
      ]
    },
    {
      "cell_type": "code",
      "source": [
        "#segunda questão\n",
        "# Criando um tensor de forma (3, 4) com valores aleatórios entre 0 e 1\n",
        "tensor2 = torch.rand(3, 4)\n",
        "print(tensor2)\n",
        "\n",
        "# Calculando a média ao longo do eixo 1 (colunas)\n",
        "media2 = tensor2.mean(dim=1)\n",
        "print(\"\\nMédia dos elementos ao longo do eixo 1 (colunas) do tensor 2:\", media2)"
      ],
      "metadata": {
        "colab": {
          "base_uri": "https://localhost:8080/"
        },
        "id": "N5FwUOlzOoeH",
        "outputId": "f43b0a70-778d-4540-9159-7b4fe6f71abe"
      },
      "execution_count": 63,
      "outputs": [
        {
          "output_type": "stream",
          "name": "stdout",
          "text": [
            "tensor([[0.5537, 0.0999, 0.6493, 0.4458],\n",
            "        [0.1451, 0.9284, 0.6525, 0.7007],\n",
            "        [0.9113, 0.6967, 0.5068, 0.5025]])\n",
            "\n",
            "Média dos elementos ao longo do eixo 1 (colunas) do tensor 2: tensor([0.4372, 0.6067, 0.6544])\n"
          ]
        }
      ]
    },
    {
      "cell_type": "code",
      "source": [
        "#terceira questão\n",
        "# Criando um tensor de forma (5, 5) com valores igualmente espaçados de 0 a 24\n",
        "tensor3 = torch.linspace(0, 24, steps=25).reshape(5, 5)\n",
        "print(tensor3)\n",
        "\n",
        "# Encontrando o valor mínimo e máximo\n",
        "minimo3 = tensor3.min()\n",
        "maximo3 = tensor3.max()\n",
        "\n",
        "print(\"\\nValor mínimo do tensor 3:\", minimo3)\n",
        "print(\"Valor máximo do tensor 3:\", maximo3)"
      ],
      "metadata": {
        "colab": {
          "base_uri": "https://localhost:8080/"
        },
        "id": "DvmEBhDlPFi1",
        "outputId": "fcf40d4b-ab76-43d3-dcc6-ff9f3a5678d6"
      },
      "execution_count": 64,
      "outputs": [
        {
          "output_type": "stream",
          "name": "stdout",
          "text": [
            "tensor([[ 0.,  1.,  2.,  3.,  4.],\n",
            "        [ 5.,  6.,  7.,  8.,  9.],\n",
            "        [10., 11., 12., 13., 14.],\n",
            "        [15., 16., 17., 18., 19.],\n",
            "        [20., 21., 22., 23., 24.]])\n",
            "\n",
            "Valor mínimo do tensor 3: tensor(0.)\n",
            "Valor máximo do tensor 3: tensor(24.)\n"
          ]
        }
      ]
    },
    {
      "cell_type": "code",
      "source": [
        "#quarta questão\n",
        "# Criando um tensor de forma (3, 6) com valores inteiros aleatórios entre 10 e 50\n",
        "tensor4 = torch.randint(10, 51, (3, 6))\n",
        "print(tensor4)\n",
        "\n",
        "# Calculando o produto ao longo do eixo 0 (linhas)\n",
        "produto4 = tensor4.prod(dim=0)\n",
        "print(\"\\nProduto dos elementos ao longo do eixo 0 (linhas) do tensor 4:\", produto4)"
      ],
      "metadata": {
        "colab": {
          "base_uri": "https://localhost:8080/"
        },
        "id": "s0hsz9tsPoV2",
        "outputId": "87696647-b815-4b50-cf13-c0f9efbfccc5"
      },
      "execution_count": 65,
      "outputs": [
        {
          "output_type": "stream",
          "name": "stdout",
          "text": [
            "tensor([[41, 38, 15, 48, 38, 39],\n",
            "        [14, 38, 35, 18, 15, 24],\n",
            "        [26, 38, 27, 38, 14, 14]])\n",
            "\n",
            "Produto dos elementos ao longo do eixo 0 (linhas) do tensor 4: tensor([14924, 54872, 14175, 32832,  7980, 13104])\n"
          ]
        }
      ]
    },
    {
      "cell_type": "code",
      "source": [
        "#quinta questão\n",
        "# Criando um tensor de forma (2, 3, 4) com valores aleatórios entre 0 e 1\n",
        "tensor5 = torch.rand(2, 3, 4)\n",
        "\n",
        "# Calculando a soma dos elementos ao longo do eixo 2\n",
        "soma5 = tensor5.sum(dim=2)\n",
        "print(\"\\nSoma dos elementos ao longo do eixo 2 do tensor 5:\", soma5)"
      ],
      "metadata": {
        "colab": {
          "base_uri": "https://localhost:8080/"
        },
        "id": "10pm9qCtQSf3",
        "outputId": "b656cdfd-1eee-40cd-9d6f-c6c191f00305"
      },
      "execution_count": 66,
      "outputs": [
        {
          "output_type": "stream",
          "name": "stdout",
          "text": [
            "\n",
            "Soma dos elementos ao longo do eixo 2 do tensor 5: tensor([[1.5866, 1.4345, 1.2802],\n",
            "        [1.9136, 1.7577, 1.9846]])\n"
          ]
        }
      ]
    }
  ],
  "metadata": {
    "kernelspec": {
      "display_name": "base",
      "language": "python",
      "name": "python3"
    },
    "language_info": {
      "codemirror_mode": {
        "name": "ipython",
        "version": 3
      },
      "file_extension": ".py",
      "mimetype": "text/x-python",
      "name": "python",
      "nbconvert_exporter": "python",
      "pygments_lexer": "ipython3",
      "version": "3.10.13"
    },
    "colab": {
      "provenance": [],
      "include_colab_link": true
    }
  },
  "nbformat": 4,
  "nbformat_minor": 0
}