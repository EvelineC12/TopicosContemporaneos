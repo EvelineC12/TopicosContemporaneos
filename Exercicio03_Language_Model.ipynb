{
  "cells": [
    {
      "cell_type": "markdown",
      "metadata": {
        "id": "view-in-github",
        "colab_type": "text"
      },
      "source": [
        "<a href=\"https://colab.research.google.com/github/EvelineC12/TopicosContemporaneos/blob/main/Exercicio03_Language_Model.ipynb\" target=\"_parent\"><img src=\"https://colab.research.google.com/assets/colab-badge.svg\" alt=\"Open In Colab\"/></a>"
      ]
    },
    {
      "cell_type": "markdown",
      "source": [
        "\n",
        "**Terceiro Trabalho**\n",
        "\n",
        "**Nome: Eveline Cavalcanti Feliciano Pontual**"
      ],
      "metadata": {
        "id": "nP0jQpiZJhuG"
      }
    },
    {
      "cell_type": "code",
      "execution_count": 1,
      "metadata": {
        "id": "86ExeE3H8-sG"
      },
      "outputs": [],
      "source": [
        "import torch\n",
        "import torch.nn as nn\n",
        "from torch.utils.data import Dataset, DataLoader, Subset\n",
        "import random\n",
        "from tqdm import tqdm"
      ]
    },
    {
      "cell_type": "code",
      "execution_count": 2,
      "metadata": {
        "id": "OT4CKsL78-sH"
      },
      "outputs": [],
      "source": [
        "device = torch.device(\"cuda\" if torch.cuda.is_available() else \"cpu\")"
      ]
    },
    {
      "cell_type": "code",
      "execution_count": 3,
      "metadata": {
        "id": "8OYjSLnB8-sH"
      },
      "outputs": [],
      "source": [
        "num_letters = 5\n",
        "\n",
        "# Cria um dicionário que mapeia pares de letras como \"AB\", \"DE\" para inteiros únicos\n",
        "tok2idx = {f\"{chr(65 + i)}{chr(65 + j)}\": i * num_letters + j for i in range(num_letters) for j in range(num_letters)}\n",
        "\n",
        "# Tokeniza um texto\n",
        "def tokenizer(text):\n",
        "    words = text.split()\n",
        "    output = torch.tensor([tok2idx[word] for word in words], dtype=torch.long)\n",
        "    return output\n",
        "\n",
        "# Função para converter um tensor de inteiros em texto\n",
        "def get_text_from_tensor(tensor):\n",
        "    return ' '.join([list(tok2idx.keys())[i] for i in tensor])"
      ]
    },
    {
      "cell_type": "code",
      "execution_count": 4,
      "metadata": {
        "id": "dl8jqCDa8-sH"
      },
      "outputs": [],
      "source": [
        "# Gera exemplos de treinamento\n",
        "def generate_examples(N):\n",
        "    examples = []\n",
        "    max_letter = 65 + num_letters - 1\n",
        "    for _ in range(N):\n",
        "        # Gera dois pares de letras aleatórios\n",
        "        first_pair = f\"{chr(random.randint(65, max_letter))}{chr(random.randint(65, max_letter))}\"  # Random pair like \"AB\"\n",
        "        second_pair = f\"{chr(random.randint(65, max_letter))}{chr(random.randint(65, max_letter))}\"  # Random pair like \"DE\"\n",
        "\n",
        "        # Gera o target que é a primeira letra do primeiro par e a segunda letra do segundo par\n",
        "        target = f\"{first_pair[0]}{second_pair[1]}\"\n",
        "\n",
        "        # Adiciona o exemplo à lista\n",
        "        examples.append((first_pair, second_pair, target))\n",
        "\n",
        "    return examples"
      ]
    },
    {
      "cell_type": "code",
      "execution_count": 5,
      "metadata": {
        "id": "T60YEjGO8-sH"
      },
      "outputs": [],
      "source": [
        "N = 5000\n",
        "examples = generate_examples(N)"
      ]
    },
    {
      "cell_type": "code",
      "execution_count": 6,
      "metadata": {
        "id": "C7pfcoXD8-sI"
      },
      "outputs": [],
      "source": [
        "# Cria um dataset com os exemplos\n",
        "class SimpleTokenDataset(Dataset):\n",
        "    def __init__(self, examples):\n",
        "        self.data = examples\n",
        "\n",
        "    def __len__(self):\n",
        "        return len(self.data)\n",
        "\n",
        "    def __getitem__(self, idx):\n",
        "        input_seq1, input_seq2, target_seq = self.data[idx]\n",
        "        src = tokenizer(input_seq1 + \" \" + input_seq2)\n",
        "        tgt = tokenizer(target_seq).squeeze()\n",
        "        return src, tgt"
      ]
    },
    {
      "cell_type": "code",
      "execution_count": 7,
      "metadata": {
        "id": "oDEoh12B8-sI"
      },
      "outputs": [],
      "source": [
        "dataset = SimpleTokenDataset(examples)\n",
        "\n",
        "num_val = 0.2 * N\n",
        "\n",
        "train_set = Subset(dataset, range(N - int(num_val)))\n",
        "val_set = Subset(dataset, range(N - int(num_val), N))\n",
        "\n",
        "train_loader = DataLoader(train_set, batch_size=16, shuffle=True)\n",
        "val_loader = DataLoader(val_set, batch_size=16)"
      ]
    },
    {
      "cell_type": "code",
      "execution_count": 8,
      "metadata": {
        "id": "2rFAV4rw8-sI"
      },
      "outputs": [],
      "source": [
        "class TextGenerator(nn.Module):\n",
        "    def __init__(self, vocab_size, embedding_dim, hidden_dim, output_dim):\n",
        "        super().__init__()\n",
        "        self.embedding = nn.Embedding(vocab_size, embedding_dim)\n",
        "        self.lstm = nn.LSTM(embedding_dim, hidden_dim, batch_first=True)\n",
        "        self.fc = nn.Linear(hidden_dim, output_dim)\n",
        "\n",
        "    def forward(self, x):\n",
        "        x = self.embedding(x)\n",
        "\n",
        "        # Apenas o último hidden state é utilizado\n",
        "        _, (h_n, _) = self.lstm(x)\n",
        "\n",
        "        out = self.fc(h_n.squeeze(0))\n",
        "        return out\n",
        "\n",
        "\n",
        "vocab_size = 10 * 10\n",
        "embedding_dim = 128\n",
        "hidden_dim = 256\n",
        "output_dim = vocab_size\n",
        "\n",
        "model = TextGenerator(vocab_size, embedding_dim, hidden_dim, output_dim)"
      ]
    },
    {
      "cell_type": "code",
      "execution_count": 9,
      "metadata": {
        "id": "C42vmwSQ8-sI"
      },
      "outputs": [],
      "source": [
        "criterion = nn.CrossEntropyLoss()\n",
        "optimizer = torch.optim.Adam(model.parameters(), lr=0.001)"
      ]
    },
    {
      "cell_type": "code",
      "execution_count": 10,
      "metadata": {
        "id": "TWD9R_0u8-sI",
        "colab": {
          "base_uri": "https://localhost:8080/"
        },
        "outputId": "04e856f6-e177-4040-b4b7-ad64edac0359"
      },
      "outputs": [
        {
          "output_type": "stream",
          "name": "stderr",
          "text": [
            "Train Epoch 1/5: 100%|██████████| 250/250 [00:03<00:00, 65.34it/s]\n"
          ]
        },
        {
          "output_type": "stream",
          "name": "stdout",
          "text": [
            "Train Loss: 1.0185\n",
            "Val Loss: 0.0304\n"
          ]
        },
        {
          "output_type": "stream",
          "name": "stderr",
          "text": [
            "Train Epoch 2/5: 100%|██████████| 250/250 [00:02<00:00, 89.03it/s]\n"
          ]
        },
        {
          "output_type": "stream",
          "name": "stdout",
          "text": [
            "Train Loss: 0.0153\n",
            "Val Loss: 0.0085\n"
          ]
        },
        {
          "output_type": "stream",
          "name": "stderr",
          "text": [
            "Train Epoch 3/5: 100%|██████████| 250/250 [00:02<00:00, 102.39it/s]\n"
          ]
        },
        {
          "output_type": "stream",
          "name": "stdout",
          "text": [
            "Train Loss: 0.0057\n",
            "Val Loss: 0.0041\n"
          ]
        },
        {
          "output_type": "stream",
          "name": "stderr",
          "text": [
            "Train Epoch 4/5: 100%|██████████| 250/250 [00:02<00:00, 98.48it/s] \n"
          ]
        },
        {
          "output_type": "stream",
          "name": "stdout",
          "text": [
            "Train Loss: 0.0031\n",
            "Val Loss: 0.0025\n"
          ]
        },
        {
          "output_type": "stream",
          "name": "stderr",
          "text": [
            "Train Epoch 5/5: 100%|██████████| 250/250 [00:02<00:00, 101.76it/s]\n"
          ]
        },
        {
          "output_type": "stream",
          "name": "stdout",
          "text": [
            "Train Loss: 0.0020\n",
            "Val Loss: 0.0017\n"
          ]
        }
      ],
      "source": [
        "epochs = 5\n",
        "for epoch in range(epochs):\n",
        "    # Treinamento\n",
        "    model.train()\n",
        "    train_loss = 0\n",
        "    for input_seq, target_seq in tqdm(train_loader, desc=f\"Train Epoch {epoch+1}/{epochs}\"):\n",
        "        optimizer.zero_grad()\n",
        "        output = model(input_seq)\n",
        "        loss = criterion(output, target_seq)\n",
        "        loss.backward()\n",
        "        optimizer.step()\n",
        "        train_loss += loss.item()\n",
        "\n",
        "    avg_train_loss = train_loss / len(train_loader)\n",
        "    print(f'Train Loss: {avg_train_loss:.4f}')\n",
        "\n",
        "    # Validação\n",
        "    model.eval()\n",
        "    val_loss = 0\n",
        "    with torch.no_grad():\n",
        "        for input_seq, target_seq in val_loader:\n",
        "            output = model(input_seq)\n",
        "            loss = criterion(output, target_seq)\n",
        "            val_loss += loss.item()\n",
        "\n",
        "    avg_val_loss = val_loss / len(val_loader)\n",
        "    print(f'Val Loss: {avg_val_loss:.4f}')"
      ]
    },
    {
      "cell_type": "code",
      "execution_count": 11,
      "metadata": {
        "id": "q7EZzUJm8-sI",
        "colab": {
          "base_uri": "https://localhost:8080/"
        },
        "outputId": "c88cf231-38c1-4f4e-b043-5648895b7694"
      },
      "outputs": [
        {
          "output_type": "stream",
          "name": "stdout",
          "text": [
            "Input: DE AE, Predicted: DE\n"
          ]
        }
      ],
      "source": [
        "# Inferência\n",
        "input_text = \"DE AE\"\n",
        "inputs = tokenizer(input_text)\n",
        "\n",
        "output = model(inputs)\n",
        "predicted_token = output.argmax().unsqueeze(0)\n",
        "predicted_text = get_text_from_tensor(predicted_token)\n",
        "\n",
        "print(f'Input: {input_text}, Predicted: {predicted_text}')"
      ]
    },
    {
      "cell_type": "code",
      "execution_count": 12,
      "metadata": {
        "id": "cJ8DO8x38-sI",
        "colab": {
          "base_uri": "https://localhost:8080/"
        },
        "outputId": "199f1579-8efa-466b-d9a3-36667fe83c93"
      },
      "outputs": [
        {
          "output_type": "stream",
          "name": "stdout",
          "text": [
            "Input: AB CD, Predicted: AD CD AD CD AD\n"
          ]
        }
      ],
      "source": [
        "def generate_autoregressive_text(model, input_text, seq_len):\n",
        "    inputs = tokenizer(input_text)\n",
        "    outputs = []\n",
        "\n",
        "    for _ in range(seq_len):\n",
        "        output = model(inputs)\n",
        "        predicted_token = output.argmax().unsqueeze(0)\n",
        "        inputs = torch.cat([inputs[-1].unsqueeze(0), predicted_token])\n",
        "        outputs.append(predicted_token)\n",
        "\n",
        "    return get_text_from_tensor(outputs)\n",
        "\n",
        "input_text = \"AB CD\"\n",
        "seq_len = 5\n",
        "predicted_text = generate_autoregressive_text(model, input_text, seq_len)\n",
        "\n",
        "print(f'Input: {input_text}, Predicted: {predicted_text}')"
      ]
    }
  ],
  "metadata": {
    "kernelspec": {
      "display_name": "base",
      "language": "python",
      "name": "python3"
    },
    "language_info": {
      "codemirror_mode": {
        "name": "ipython",
        "version": 3
      },
      "file_extension": ".py",
      "mimetype": "text/x-python",
      "name": "python",
      "nbconvert_exporter": "python",
      "pygments_lexer": "ipython3",
      "version": "3.10.13"
    },
    "colab": {
      "provenance": [],
      "include_colab_link": true
    }
  },
  "nbformat": 4,
  "nbformat_minor": 0
}